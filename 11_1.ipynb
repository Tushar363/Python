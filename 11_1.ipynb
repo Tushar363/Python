{
 "cells": [
  {
   "cell_type": "code",
   "execution_count": 6,
   "id": "aa2ce6e0",
   "metadata": {},
   "outputs": [],
   "source": [
    "L3 = [23,34,5,6,9,23,0,4,56,23,3,4]\n",
    "L1 = [23,45,67,98,34,12,9,2,3,5,9]\n"
   ]
  },
  {
   "cell_type": "code",
   "execution_count": 7,
   "id": "3c18da66",
   "metadata": {},
   "outputs": [],
   "source": [
    "L3.extend(L1)"
   ]
  },
  {
   "cell_type": "code",
   "execution_count": 8,
   "id": "4ccd6788",
   "metadata": {},
   "outputs": [
    {
     "data": {
      "text/plain": [
       "[23,\n",
       " 34,\n",
       " 5,\n",
       " 6,\n",
       " 9,\n",
       " 23,\n",
       " 0,\n",
       " 4,\n",
       " 56,\n",
       " 23,\n",
       " 3,\n",
       " 4,\n",
       " 23,\n",
       " 45,\n",
       " 67,\n",
       " 98,\n",
       " 34,\n",
       " 12,\n",
       " 9,\n",
       " 2,\n",
       " 3,\n",
       " 5,\n",
       " 9]"
      ]
     },
     "execution_count": 8,
     "metadata": {},
     "output_type": "execute_result"
    }
   ],
   "source": [
    "L3"
   ]
  },
  {
   "cell_type": "code",
   "execution_count": 9,
   "id": "41a175ab",
   "metadata": {},
   "outputs": [],
   "source": [
    "List8 =[24,65,98,12,31,[9,8,7,6],98,56,43,1,2,3,4]"
   ]
  },
  {
   "cell_type": "code",
   "execution_count": 11,
   "id": "35674f17",
   "metadata": {},
   "outputs": [
    {
     "data": {
      "text/plain": [
       "8"
      ]
     },
     "execution_count": 11,
     "metadata": {},
     "output_type": "execute_result"
    }
   ],
   "source": [
    "List8[5][1]"
   ]
  },
  {
   "cell_type": "code",
   "execution_count": null,
   "id": "7079a77f",
   "metadata": {},
   "outputs": [],
   "source": [
    " My_tuple = (4, 2, 3, [6, 5]), can we change 6 with 9? If yes then \n",
    "change it using python script and if no then why?"
   ]
  },
  {
   "cell_type": "code",
   "execution_count": 12,
   "id": "ccc4ae36",
   "metadata": {},
   "outputs": [],
   "source": [
    "My_tuple = (4, 2, 3, [6, 5])"
   ]
  },
  {
   "cell_type": "code",
   "execution_count": 14,
   "id": "bc9b462f",
   "metadata": {},
   "outputs": [],
   "source": [
    "My_tuple[3][0] = 9"
   ]
  },
  {
   "cell_type": "code",
   "execution_count": 15,
   "id": "1714dcfb",
   "metadata": {},
   "outputs": [
    {
     "data": {
      "text/plain": [
       "(4, 2, 3, [9, 5])"
      ]
     },
     "execution_count": 15,
     "metadata": {},
     "output_type": "execute_result"
    }
   ],
   "source": [
    "My_tuple"
   ]
  },
  {
   "cell_type": "code",
   "execution_count": 16,
   "id": "3868ce04",
   "metadata": {},
   "outputs": [],
   "source": [
    "# List1 = [1,2,3,1,2,3], convert given list in to set."
   ]
  },
  {
   "cell_type": "code",
   "execution_count": 21,
   "id": "a53c1224",
   "metadata": {},
   "outputs": [],
   "source": [
    "List1 = [1,2,3,1,2]"
   ]
  },
  {
   "cell_type": "code",
   "execution_count": 22,
   "id": "8657221f",
   "metadata": {},
   "outputs": [],
   "source": [
    "s1 = set(List1)"
   ]
  },
  {
   "cell_type": "code",
   "execution_count": 23,
   "id": "cc54db80",
   "metadata": {},
   "outputs": [
    {
     "data": {
      "text/plain": [
       "{1, 2, 3}"
      ]
     },
     "execution_count": 23,
     "metadata": {},
     "output_type": "execute_result"
    }
   ],
   "source": [
    "s1"
   ]
  },
  {
   "cell_type": "code",
   "execution_count": 24,
   "id": "bcac7770",
   "metadata": {},
   "outputs": [],
   "source": [
    "#Dictionary -> Unordered \n",
    "# element -> Key / value"
   ]
  },
  {
   "cell_type": "code",
   "execution_count": 25,
   "id": "dadb777a",
   "metadata": {},
   "outputs": [],
   "source": [
    "d1 = {}"
   ]
  },
  {
   "cell_type": "code",
   "execution_count": 26,
   "id": "c703183d",
   "metadata": {},
   "outputs": [
    {
     "data": {
      "text/plain": [
       "dict"
      ]
     },
     "execution_count": 26,
     "metadata": {},
     "output_type": "execute_result"
    }
   ],
   "source": [
    "type(d1)"
   ]
  },
  {
   "cell_type": "code",
   "execution_count": 39,
   "id": "3843842c",
   "metadata": {},
   "outputs": [],
   "source": [
    "d1 = {1 : 1, 2 : 4, 3 : 4,'k1' : 90,(1,2,3):12,1 : 11,'k2':[1,2,3,4]}"
   ]
  },
  {
   "cell_type": "code",
   "execution_count": 40,
   "id": "b5820e49",
   "metadata": {},
   "outputs": [
    {
     "name": "stdout",
     "output_type": "stream",
     "text": [
      "{1: 11, 2: 4, 3: 4, 'k1': 90, (1, 2, 3): 12, 'k2': [1, 2, 3, 4]}\n"
     ]
    }
   ],
   "source": [
    "print(d1)"
   ]
  },
  {
   "cell_type": "code",
   "execution_count": 37,
   "id": "9fb41fd3",
   "metadata": {},
   "outputs": [],
   "source": [
    "# Key -> Immutable, Unique\n",
    "\n",
    "# value -> "
   ]
  },
  {
   "cell_type": "code",
   "execution_count": 41,
   "id": "c6f7b545",
   "metadata": {},
   "outputs": [
    {
     "data": {
      "text/plain": [
       "90"
      ]
     },
     "execution_count": 41,
     "metadata": {},
     "output_type": "execute_result"
    }
   ],
   "source": [
    "d1['k1']"
   ]
  },
  {
   "cell_type": "code",
   "execution_count": 42,
   "id": "7c06abe5",
   "metadata": {},
   "outputs": [],
   "source": [
    "d1['k1'] = 190"
   ]
  },
  {
   "cell_type": "code",
   "execution_count": 43,
   "id": "034dd6d5",
   "metadata": {},
   "outputs": [
    {
     "data": {
      "text/plain": [
       "{1: 11, 2: 4, 3: 4, 'k1': 190, (1, 2, 3): 12, 'k2': [1, 2, 3, 4]}"
      ]
     },
     "execution_count": 43,
     "metadata": {},
     "output_type": "execute_result"
    }
   ],
   "source": [
    "d1"
   ]
  },
  {
   "cell_type": "code",
   "execution_count": 44,
   "id": "79c7956b",
   "metadata": {},
   "outputs": [],
   "source": [
    "d1['key'] = 'Hello'"
   ]
  },
  {
   "cell_type": "code",
   "execution_count": 45,
   "id": "b47bebf4",
   "metadata": {},
   "outputs": [
    {
     "data": {
      "text/plain": [
       "{1: 11,\n",
       " 2: 4,\n",
       " 3: 4,\n",
       " 'k1': 190,\n",
       " (1, 2, 3): 12,\n",
       " 'k2': [1, 2, 3, 4],\n",
       " 'key': 'Hello'}"
      ]
     },
     "execution_count": 45,
     "metadata": {},
     "output_type": "execute_result"
    }
   ],
   "source": [
    "d1"
   ]
  },
  {
   "cell_type": "code",
   "execution_count": 47,
   "id": "2ff7687c",
   "metadata": {},
   "outputs": [
    {
     "ename": "KeyError",
     "evalue": "21",
     "output_type": "error",
     "traceback": [
      "\u001b[1;31m---------------------------------------------------------------------------\u001b[0m",
      "\u001b[1;31mKeyError\u001b[0m                                  Traceback (most recent call last)",
      "\u001b[1;32m<ipython-input-47-d5c7d336ddea>\u001b[0m in \u001b[0;36m<module>\u001b[1;34m\u001b[0m\n\u001b[1;32m----> 1\u001b[1;33m \u001b[0md1\u001b[0m\u001b[1;33m[\u001b[0m\u001b[1;36m21\u001b[0m\u001b[1;33m]\u001b[0m\u001b[1;33m\u001b[0m\u001b[1;33m\u001b[0m\u001b[0m\n\u001b[0m",
      "\u001b[1;31mKeyError\u001b[0m: 21"
     ]
    }
   ],
   "source": [
    "d1[21]"
   ]
  },
  {
   "cell_type": "code",
   "execution_count": 51,
   "id": "bcddee3f",
   "metadata": {},
   "outputs": [
    {
     "data": {
      "text/plain": [
       "123"
      ]
     },
     "execution_count": 51,
     "metadata": {},
     "output_type": "execute_result"
    }
   ],
   "source": [
    "d1.get(11,123)"
   ]
  },
  {
   "cell_type": "code",
   "execution_count": 52,
   "id": "540ca3f2",
   "metadata": {},
   "outputs": [],
   "source": [
    "d2 = {'k1':12,'k2':24,'k3':36}"
   ]
  },
  {
   "cell_type": "code",
   "execution_count": 53,
   "id": "bfb5a5f0",
   "metadata": {},
   "outputs": [],
   "source": [
    "d1.update(d2)"
   ]
  },
  {
   "cell_type": "code",
   "execution_count": 54,
   "id": "aae7f43a",
   "metadata": {},
   "outputs": [
    {
     "data": {
      "text/plain": [
       "{1: 11,\n",
       " 2: 4,\n",
       " 3: 4,\n",
       " 'k1': 12,\n",
       " (1, 2, 3): 12,\n",
       " 'k2': 24,\n",
       " 'key': 'Hello',\n",
       " 'k3': 36}"
      ]
     },
     "execution_count": 54,
     "metadata": {},
     "output_type": "execute_result"
    }
   ],
   "source": [
    "d1"
   ]
  },
  {
   "cell_type": "code",
   "execution_count": 55,
   "id": "433bd3a3",
   "metadata": {},
   "outputs": [
    {
     "data": {
      "text/plain": [
       "dict_items([(1, 11), (2, 4), (3, 4), ('k1', 12), ((1, 2, 3), 12), ('k2', 24), ('key', 'Hello'), ('k3', 36)])"
      ]
     },
     "execution_count": 55,
     "metadata": {},
     "output_type": "execute_result"
    }
   ],
   "source": [
    "d1.items()"
   ]
  },
  {
   "cell_type": "code",
   "execution_count": 56,
   "id": "db5fada0",
   "metadata": {},
   "outputs": [
    {
     "data": {
      "text/plain": [
       "dict_keys([1, 2, 3, 'k1', (1, 2, 3), 'k2', 'key', 'k3'])"
      ]
     },
     "execution_count": 56,
     "metadata": {},
     "output_type": "execute_result"
    }
   ],
   "source": [
    "d1.keys()"
   ]
  },
  {
   "cell_type": "code",
   "execution_count": 57,
   "id": "0d5977b3",
   "metadata": {},
   "outputs": [
    {
     "data": {
      "text/plain": [
       "dict_values([11, 4, 4, 12, 12, 24, 'Hello', 36])"
      ]
     },
     "execution_count": 57,
     "metadata": {},
     "output_type": "execute_result"
    }
   ],
   "source": [
    "d1.values()"
   ]
  },
  {
   "cell_type": "code",
   "execution_count": 58,
   "id": "503bf9e8",
   "metadata": {},
   "outputs": [
    {
     "data": {
      "text/plain": [
       "12"
      ]
     },
     "execution_count": 58,
     "metadata": {},
     "output_type": "execute_result"
    }
   ],
   "source": [
    "d1.pop('k1')"
   ]
  },
  {
   "cell_type": "code",
   "execution_count": 59,
   "id": "284a6c2a",
   "metadata": {},
   "outputs": [
    {
     "data": {
      "text/plain": [
       "{1: 11, 2: 4, 3: 4, (1, 2, 3): 12, 'k2': 24, 'key': 'Hello', 'k3': 36}"
      ]
     },
     "execution_count": 59,
     "metadata": {},
     "output_type": "execute_result"
    }
   ],
   "source": [
    "d1"
   ]
  },
  {
   "cell_type": "code",
   "execution_count": 60,
   "id": "2cabfeeb",
   "metadata": {},
   "outputs": [
    {
     "data": {
      "text/plain": [
       "('k3', 36)"
      ]
     },
     "execution_count": 60,
     "metadata": {},
     "output_type": "execute_result"
    }
   ],
   "source": [
    "d1.popitem()"
   ]
  },
  {
   "cell_type": "code",
   "execution_count": 61,
   "id": "e6bef21a",
   "metadata": {},
   "outputs": [],
   "source": [
    "d3 = {3 : {1 : 1, 2 : 4, 3 : 9}}"
   ]
  },
  {
   "cell_type": "code",
   "execution_count": 64,
   "id": "4997e691",
   "metadata": {},
   "outputs": [
    {
     "data": {
      "text/plain": [
       "9"
      ]
     },
     "execution_count": 64,
     "metadata": {},
     "output_type": "execute_result"
    }
   ],
   "source": [
    "d3[3][3]"
   ]
  },
  {
   "cell_type": "code",
   "execution_count": 65,
   "id": "66512376",
   "metadata": {},
   "outputs": [],
   "source": [
    "# Conditional statement"
   ]
  },
  {
   "cell_type": "code",
   "execution_count": 66,
   "id": "1a0cb791",
   "metadata": {},
   "outputs": [],
   "source": [
    "# if statement\n",
    "\n",
    "if test_expression:\n",
    "    body"
   ]
  },
  {
   "cell_type": "code",
   "execution_count": 70,
   "id": "78f67ec4",
   "metadata": {},
   "outputs": [
    {
     "name": "stdout",
     "output_type": "stream",
     "text": [
      "Positive\n",
      "Hey! I am not indented\n"
     ]
    }
   ],
   "source": [
    "num = 12\n",
    "\n",
    "if num > 0:\n",
    "    \n",
    "    print(\"Positive\")\n",
    "    \n",
    "print(\"Hey! I am not indented\")"
   ]
  },
  {
   "cell_type": "code",
   "execution_count": 71,
   "id": "8c8f6fb5",
   "metadata": {},
   "outputs": [],
   "source": [
    "# if...else statement"
   ]
  },
  {
   "cell_type": "code",
   "execution_count": 75,
   "id": "27c779de",
   "metadata": {},
   "outputs": [
    {
     "name": "stdout",
     "output_type": "stream",
     "text": [
      "Negative\n",
      "Hey! I am not indented\n"
     ]
    }
   ],
   "source": [
    "num = -12\n",
    "\n",
    "if num > 0:\n",
    "    print(\"Postive\")\n",
    "else:\n",
    "    print(\"Negative\")\n",
    "    \n",
    "print(\"Hey! I am not indented\")"
   ]
  },
  {
   "cell_type": "code",
   "execution_count": null,
   "id": "9ddd5229",
   "metadata": {},
   "outputs": [],
   "source": []
  }
 ],
 "metadata": {
  "kernelspec": {
   "display_name": "Python 3",
   "language": "python",
   "name": "python3"
  },
  "language_info": {
   "codemirror_mode": {
    "name": "ipython",
    "version": 3
   },
   "file_extension": ".py",
   "mimetype": "text/x-python",
   "name": "python",
   "nbconvert_exporter": "python",
   "pygments_lexer": "ipython3",
   "version": "3.8.8"
  }
 },
 "nbformat": 4,
 "nbformat_minor": 5
}
