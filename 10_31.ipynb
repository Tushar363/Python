{
 "cells": [
  {
   "cell_type": "code",
   "execution_count": 1,
   "id": "a829e66c",
   "metadata": {},
   "outputs": [],
   "source": [
    "#Type conversion"
   ]
  },
  {
   "cell_type": "code",
   "execution_count": 2,
   "id": "564f7db7",
   "metadata": {},
   "outputs": [],
   "source": [
    "#1. Implicit Type conversion"
   ]
  },
  {
   "cell_type": "code",
   "execution_count": 3,
   "id": "81cbed14",
   "metadata": {},
   "outputs": [],
   "source": [
    "num = 10.50\n",
    "num1 = 10"
   ]
  },
  {
   "cell_type": "code",
   "execution_count": 4,
   "id": "df3eafd0",
   "metadata": {},
   "outputs": [
    {
     "data": {
      "text/plain": [
       "20.5"
      ]
     },
     "execution_count": 4,
     "metadata": {},
     "output_type": "execute_result"
    }
   ],
   "source": [
    "num1 + num"
   ]
  },
  {
   "cell_type": "code",
   "execution_count": 5,
   "id": "458eda90",
   "metadata": {},
   "outputs": [
    {
     "ename": "TypeError",
     "evalue": "can only concatenate str (not \"int\") to str",
     "output_type": "error",
     "traceback": [
      "\u001b[1;31m---------------------------------------------------------------------------\u001b[0m",
      "\u001b[1;31mTypeError\u001b[0m                                 Traceback (most recent call last)",
      "\u001b[1;32m<ipython-input-5-8777c8c763cc>\u001b[0m in \u001b[0;36m<module>\u001b[1;34m\u001b[0m\n\u001b[1;32m----> 1\u001b[1;33m \u001b[1;34m'123'\u001b[0m \u001b[1;33m+\u001b[0m \u001b[1;36m123\u001b[0m\u001b[1;33m\u001b[0m\u001b[1;33m\u001b[0m\u001b[0m\n\u001b[0m",
      "\u001b[1;31mTypeError\u001b[0m: can only concatenate str (not \"int\") to str"
     ]
    }
   ],
   "source": [
    "'123' + 123"
   ]
  },
  {
   "cell_type": "code",
   "execution_count": 6,
   "id": "babcd7bd",
   "metadata": {},
   "outputs": [],
   "source": [
    "# Explicit type conversion"
   ]
  },
  {
   "cell_type": "code",
   "execution_count": 7,
   "id": "0d28b06b",
   "metadata": {},
   "outputs": [],
   "source": [
    "v = '123'\n",
    "v1 = 123"
   ]
  },
  {
   "cell_type": "code",
   "execution_count": 9,
   "id": "080b018b",
   "metadata": {},
   "outputs": [
    {
     "data": {
      "text/plain": [
       "246"
      ]
     },
     "execution_count": 9,
     "metadata": {},
     "output_type": "execute_result"
    }
   ],
   "source": [
    "v1 + int(v)"
   ]
  },
  {
   "cell_type": "code",
   "execution_count": 11,
   "id": "9702ad24",
   "metadata": {},
   "outputs": [
    {
     "data": {
      "text/plain": [
       "'123'"
      ]
     },
     "execution_count": 11,
     "metadata": {},
     "output_type": "execute_result"
    }
   ],
   "source": [
    "v"
   ]
  },
  {
   "cell_type": "code",
   "execution_count": 13,
   "id": "13837197",
   "metadata": {},
   "outputs": [
    {
     "data": {
      "text/plain": [
       "'123123'"
      ]
     },
     "execution_count": 13,
     "metadata": {},
     "output_type": "execute_result"
    }
   ],
   "source": [
    "str(v1) + v"
   ]
  },
  {
   "cell_type": "code",
   "execution_count": 14,
   "id": "2d22ca55",
   "metadata": {},
   "outputs": [],
   "source": [
    "str1 = 'hello'"
   ]
  },
  {
   "cell_type": "code",
   "execution_count": 15,
   "id": "6d254003",
   "metadata": {},
   "outputs": [
    {
     "ename": "ValueError",
     "evalue": "invalid literal for int() with base 10: 'hello'",
     "output_type": "error",
     "traceback": [
      "\u001b[1;31m---------------------------------------------------------------------------\u001b[0m",
      "\u001b[1;31mValueError\u001b[0m                                Traceback (most recent call last)",
      "\u001b[1;32m<ipython-input-15-96962c76182f>\u001b[0m in \u001b[0;36m<module>\u001b[1;34m\u001b[0m\n\u001b[1;32m----> 1\u001b[1;33m \u001b[0mint\u001b[0m\u001b[1;33m(\u001b[0m\u001b[0mstr1\u001b[0m\u001b[1;33m)\u001b[0m\u001b[1;33m\u001b[0m\u001b[1;33m\u001b[0m\u001b[0m\n\u001b[0m",
      "\u001b[1;31mValueError\u001b[0m: invalid literal for int() with base 10: 'hello'"
     ]
    }
   ],
   "source": [
    "int(str1)"
   ]
  },
  {
   "cell_type": "code",
   "execution_count": 16,
   "id": "51bcc853",
   "metadata": {},
   "outputs": [],
   "source": [
    "v1 = 12.40"
   ]
  },
  {
   "cell_type": "code",
   "execution_count": 17,
   "id": "e8fde6ad",
   "metadata": {},
   "outputs": [
    {
     "data": {
      "text/plain": [
       "12"
      ]
     },
     "execution_count": 17,
     "metadata": {},
     "output_type": "execute_result"
    }
   ],
   "source": [
    "int(v1)"
   ]
  },
  {
   "cell_type": "code",
   "execution_count": 18,
   "id": "8a5f2c83",
   "metadata": {},
   "outputs": [],
   "source": [
    "# Python standard input and output"
   ]
  },
  {
   "cell_type": "code",
   "execution_count": 19,
   "id": "25c68714",
   "metadata": {},
   "outputs": [
    {
     "name": "stdout",
     "output_type": "stream",
     "text": [
      "12.4\n"
     ]
    }
   ],
   "source": [
    "print(v1)"
   ]
  },
  {
   "cell_type": "code",
   "execution_count": 20,
   "id": "5313c4bf",
   "metadata": {},
   "outputs": [
    {
     "name": "stdout",
     "output_type": "stream",
     "text": [
      "Hello\n"
     ]
    },
    {
     "data": {
      "text/plain": [
       "'Hello'"
      ]
     },
     "execution_count": 20,
     "metadata": {},
     "output_type": "execute_result"
    }
   ],
   "source": [
    "input()"
   ]
  },
  {
   "cell_type": "code",
   "execution_count": 23,
   "id": "100690e3",
   "metadata": {},
   "outputs": [
    {
     "name": "stdout",
     "output_type": "stream",
     "text": [
      "123\n"
     ]
    }
   ],
   "source": [
    "v1 = input()"
   ]
  },
  {
   "cell_type": "code",
   "execution_count": 26,
   "id": "9505bc39",
   "metadata": {},
   "outputs": [
    {
     "data": {
      "text/plain": [
       "123"
      ]
     },
     "execution_count": 26,
     "metadata": {},
     "output_type": "execute_result"
    }
   ],
   "source": [
    "int(v1)"
   ]
  },
  {
   "cell_type": "code",
   "execution_count": 25,
   "id": "0390ff21",
   "metadata": {},
   "outputs": [
    {
     "data": {
      "text/plain": [
       "str"
      ]
     },
     "execution_count": 25,
     "metadata": {},
     "output_type": "execute_result"
    }
   ],
   "source": [
    "type(v1)"
   ]
  },
  {
   "cell_type": "code",
   "execution_count": 29,
   "id": "2759dea5",
   "metadata": {},
   "outputs": [
    {
     "name": "stdout",
     "output_type": "stream",
     "text": [
      "Enter your age:13\n"
     ]
    }
   ],
   "source": [
    "age = input(\"Enter your age:\")"
   ]
  },
  {
   "cell_type": "code",
   "execution_count": 31,
   "id": "048ee705",
   "metadata": {},
   "outputs": [],
   "source": [
    "age = int(age)"
   ]
  },
  {
   "cell_type": "code",
   "execution_count": 32,
   "id": "bdd73135",
   "metadata": {},
   "outputs": [
    {
     "data": {
      "text/plain": [
       "13"
      ]
     },
     "execution_count": 32,
     "metadata": {},
     "output_type": "execute_result"
    }
   ],
   "source": [
    "age"
   ]
  },
  {
   "cell_type": "code",
   "execution_count": 33,
   "id": "9ea73bd7",
   "metadata": {},
   "outputs": [
    {
     "data": {
      "text/plain": [
       "int"
      ]
     },
     "execution_count": 33,
     "metadata": {},
     "output_type": "execute_result"
    }
   ],
   "source": [
    "type(age)"
   ]
  },
  {
   "cell_type": "code",
   "execution_count": 36,
   "id": "41e7f898",
   "metadata": {},
   "outputs": [
    {
     "name": "stdout",
     "output_type": "stream",
     "text": [
      "Enter your age:hsj\n"
     ]
    },
    {
     "ename": "ValueError",
     "evalue": "invalid literal for int() with base 10: 'hsj'",
     "output_type": "error",
     "traceback": [
      "\u001b[1;31m---------------------------------------------------------------------------\u001b[0m",
      "\u001b[1;31mValueError\u001b[0m                                Traceback (most recent call last)",
      "\u001b[1;32m<ipython-input-36-1ab46de57b7a>\u001b[0m in \u001b[0;36m<module>\u001b[1;34m\u001b[0m\n\u001b[1;32m----> 1\u001b[1;33m \u001b[0mage\u001b[0m \u001b[1;33m=\u001b[0m \u001b[0mint\u001b[0m\u001b[1;33m(\u001b[0m\u001b[0minput\u001b[0m\u001b[1;33m(\u001b[0m\u001b[1;34m\"Enter your age:\"\u001b[0m\u001b[1;33m)\u001b[0m\u001b[1;33m)\u001b[0m\u001b[1;33m\u001b[0m\u001b[1;33m\u001b[0m\u001b[0m\n\u001b[0m",
      "\u001b[1;31mValueError\u001b[0m: invalid literal for int() with base 10: 'hsj'"
     ]
    }
   ],
   "source": [
    "age = int(input(\"Enter your age:\"))"
   ]
  },
  {
   "cell_type": "code",
   "execution_count": 35,
   "id": "c412e74a",
   "metadata": {},
   "outputs": [
    {
     "data": {
      "text/plain": [
       "int"
      ]
     },
     "execution_count": 35,
     "metadata": {},
     "output_type": "execute_result"
    }
   ],
   "source": [
    "type(age)"
   ]
  },
  {
   "cell_type": "code",
   "execution_count": 37,
   "id": "a4dc1bed",
   "metadata": {},
   "outputs": [],
   "source": [
    "# Operator:"
   ]
  },
  {
   "cell_type": "code",
   "execution_count": 38,
   "id": "e6322a18",
   "metadata": {},
   "outputs": [],
   "source": [
    "# Arithmetic operators"
   ]
  },
  {
   "cell_type": "code",
   "execution_count": 39,
   "id": "c2c86927",
   "metadata": {},
   "outputs": [
    {
     "data": {
      "text/plain": [
       "7"
      ]
     },
     "execution_count": 39,
     "metadata": {},
     "output_type": "execute_result"
    }
   ],
   "source": [
    "3 + 4"
   ]
  },
  {
   "cell_type": "code",
   "execution_count": 40,
   "id": "df4b02fe",
   "metadata": {},
   "outputs": [
    {
     "data": {
      "text/plain": [
       "1"
      ]
     },
     "execution_count": 40,
     "metadata": {},
     "output_type": "execute_result"
    }
   ],
   "source": [
    "3 - 2"
   ]
  },
  {
   "cell_type": "code",
   "execution_count": 41,
   "id": "a2c03f3a",
   "metadata": {},
   "outputs": [
    {
     "data": {
      "text/plain": [
       "12"
      ]
     },
     "execution_count": 41,
     "metadata": {},
     "output_type": "execute_result"
    }
   ],
   "source": [
    "4 * 3"
   ]
  },
  {
   "cell_type": "code",
   "execution_count": 42,
   "id": "d36c6ca2",
   "metadata": {},
   "outputs": [],
   "source": [
    "# Division\n",
    "#1. Float division\n",
    "#2. Integer division (floor division)"
   ]
  },
  {
   "cell_type": "code",
   "execution_count": 43,
   "id": "cef4617b",
   "metadata": {},
   "outputs": [],
   "source": [
    "#1. Float division"
   ]
  },
  {
   "cell_type": "code",
   "execution_count": 44,
   "id": "fabb0c69",
   "metadata": {},
   "outputs": [
    {
     "data": {
      "text/plain": [
       "1.3333333333333333"
      ]
     },
     "execution_count": 44,
     "metadata": {},
     "output_type": "execute_result"
    }
   ],
   "source": [
    "4 / 3"
   ]
  },
  {
   "cell_type": "code",
   "execution_count": 45,
   "id": "158d93e5",
   "metadata": {},
   "outputs": [
    {
     "data": {
      "text/plain": [
       "2.25"
      ]
     },
     "execution_count": 45,
     "metadata": {},
     "output_type": "execute_result"
    }
   ],
   "source": [
    "9 / 4"
   ]
  },
  {
   "cell_type": "code",
   "execution_count": 46,
   "id": "b48f03a4",
   "metadata": {},
   "outputs": [
    {
     "data": {
      "text/plain": [
       "2.0"
      ]
     },
     "execution_count": 46,
     "metadata": {},
     "output_type": "execute_result"
    }
   ],
   "source": [
    "4 / 2"
   ]
  },
  {
   "cell_type": "code",
   "execution_count": 47,
   "id": "9bda5aa9",
   "metadata": {},
   "outputs": [],
   "source": [
    "#2. Integer division (floor division)"
   ]
  },
  {
   "cell_type": "code",
   "execution_count": 49,
   "id": "7f6435bf",
   "metadata": {},
   "outputs": [
    {
     "data": {
      "text/plain": [
       "1"
      ]
     },
     "execution_count": 49,
     "metadata": {},
     "output_type": "execute_result"
    }
   ],
   "source": [
    "4 // 3"
   ]
  },
  {
   "cell_type": "code",
   "execution_count": 50,
   "id": "ebe81689",
   "metadata": {},
   "outputs": [
    {
     "data": {
      "text/plain": [
       "2"
      ]
     },
     "execution_count": 50,
     "metadata": {},
     "output_type": "execute_result"
    }
   ],
   "source": [
    "9 // 4"
   ]
  },
  {
   "cell_type": "code",
   "execution_count": 51,
   "id": "68ea482f",
   "metadata": {},
   "outputs": [
    {
     "data": {
      "text/plain": [
       "2"
      ]
     },
     "execution_count": 51,
     "metadata": {},
     "output_type": "execute_result"
    }
   ],
   "source": [
    "4 // 2"
   ]
  },
  {
   "cell_type": "code",
   "execution_count": 52,
   "id": "c6cc1ed5",
   "metadata": {},
   "outputs": [],
   "source": [
    "# % -> modulo -> remainder"
   ]
  },
  {
   "cell_type": "code",
   "execution_count": 53,
   "id": "7c38cd88",
   "metadata": {},
   "outputs": [
    {
     "data": {
      "text/plain": [
       "2"
      ]
     },
     "execution_count": 53,
     "metadata": {},
     "output_type": "execute_result"
    }
   ],
   "source": [
    "17 % 5"
   ]
  },
  {
   "cell_type": "code",
   "execution_count": 54,
   "id": "6bbb3597",
   "metadata": {},
   "outputs": [
    {
     "data": {
      "text/plain": [
       "0"
      ]
     },
     "execution_count": 54,
     "metadata": {},
     "output_type": "execute_result"
    }
   ],
   "source": [
    "4 % 2"
   ]
  },
  {
   "cell_type": "code",
   "execution_count": 55,
   "id": "2330a854",
   "metadata": {},
   "outputs": [],
   "source": [
    "# ** -> power"
   ]
  },
  {
   "cell_type": "code",
   "execution_count": 56,
   "id": "a8edb49c",
   "metadata": {},
   "outputs": [
    {
     "data": {
      "text/plain": [
       "81"
      ]
     },
     "execution_count": 56,
     "metadata": {},
     "output_type": "execute_result"
    }
   ],
   "source": [
    "3 ** 4"
   ]
  },
  {
   "cell_type": "code",
   "execution_count": 57,
   "id": "65141669",
   "metadata": {},
   "outputs": [],
   "source": [
    "# Comparison operator"
   ]
  },
  {
   "cell_type": "code",
   "execution_count": 59,
   "id": "ab0a0a1d",
   "metadata": {},
   "outputs": [
    {
     "data": {
      "text/plain": [
       "False"
      ]
     },
     "execution_count": 59,
     "metadata": {},
     "output_type": "execute_result"
    }
   ],
   "source": [
    "5 > 13"
   ]
  },
  {
   "cell_type": "code",
   "execution_count": 60,
   "id": "ba4f3b75",
   "metadata": {},
   "outputs": [
    {
     "data": {
      "text/plain": [
       "True"
      ]
     },
     "execution_count": 60,
     "metadata": {},
     "output_type": "execute_result"
    }
   ],
   "source": [
    "4 < 12"
   ]
  },
  {
   "cell_type": "code",
   "execution_count": 62,
   "id": "beecc6d8",
   "metadata": {},
   "outputs": [
    {
     "data": {
      "text/plain": [
       "False"
      ]
     },
     "execution_count": 62,
     "metadata": {},
     "output_type": "execute_result"
    }
   ],
   "source": [
    "4 == 14"
   ]
  },
  {
   "cell_type": "code",
   "execution_count": 64,
   "id": "4d9b2ec3",
   "metadata": {},
   "outputs": [
    {
     "data": {
      "text/plain": [
       "False"
      ]
     },
     "execution_count": 64,
     "metadata": {},
     "output_type": "execute_result"
    }
   ],
   "source": [
    "4 != 4"
   ]
  },
  {
   "cell_type": "code",
   "execution_count": 69,
   "id": "48a13be5",
   "metadata": {},
   "outputs": [
    {
     "data": {
      "text/plain": [
       "False"
      ]
     },
     "execution_count": 69,
     "metadata": {},
     "output_type": "execute_result"
    }
   ],
   "source": [
    "4 >= 14"
   ]
  },
  {
   "cell_type": "code",
   "execution_count": 67,
   "id": "efdb4088",
   "metadata": {},
   "outputs": [
    {
     "data": {
      "text/plain": [
       "False"
      ]
     },
     "execution_count": 67,
     "metadata": {},
     "output_type": "execute_result"
    }
   ],
   "source": [
    "4 > 4"
   ]
  },
  {
   "cell_type": "code",
   "execution_count": 68,
   "id": "cd0b5dac",
   "metadata": {},
   "outputs": [
    {
     "data": {
      "text/plain": [
       "True"
      ]
     },
     "execution_count": 68,
     "metadata": {},
     "output_type": "execute_result"
    }
   ],
   "source": [
    "4 == 4"
   ]
  },
  {
   "cell_type": "code",
   "execution_count": 71,
   "id": "3cc65bf3",
   "metadata": {},
   "outputs": [
    {
     "data": {
      "text/plain": [
       "False"
      ]
     },
     "execution_count": 71,
     "metadata": {},
     "output_type": "execute_result"
    }
   ],
   "source": [
    "14 <= 4"
   ]
  },
  {
   "cell_type": "code",
   "execution_count": 72,
   "id": "3af53aeb",
   "metadata": {},
   "outputs": [],
   "source": [
    "# Logical operator\n",
    "\n",
    "# and\n",
    "# or\n",
    "# not"
   ]
  },
  {
   "cell_type": "code",
   "execution_count": 73,
   "id": "8c554f0c",
   "metadata": {},
   "outputs": [
    {
     "data": {
      "text/plain": [
       "True"
      ]
     },
     "execution_count": 73,
     "metadata": {},
     "output_type": "execute_result"
    }
   ],
   "source": [
    "True and True"
   ]
  },
  {
   "cell_type": "code",
   "execution_count": 74,
   "id": "97ad9cea",
   "metadata": {},
   "outputs": [
    {
     "data": {
      "text/plain": [
       "True"
      ]
     },
     "execution_count": 74,
     "metadata": {},
     "output_type": "execute_result"
    }
   ],
   "source": [
    "4 > 2 and 5 == 5"
   ]
  },
  {
   "cell_type": "code",
   "execution_count": 75,
   "id": "dfdb97ae",
   "metadata": {},
   "outputs": [],
   "source": [
    "# T + T -> T\n",
    "# F + T -> F\n",
    "# T + F -> F\n",
    "# F + F -> F"
   ]
  },
  {
   "cell_type": "code",
   "execution_count": 76,
   "id": "36a344e9",
   "metadata": {},
   "outputs": [
    {
     "data": {
      "text/plain": [
       "False"
      ]
     },
     "execution_count": 76,
     "metadata": {},
     "output_type": "execute_result"
    }
   ],
   "source": [
    "4 > 12 and 5 == 5"
   ]
  },
  {
   "cell_type": "code",
   "execution_count": 77,
   "id": "57754da0",
   "metadata": {},
   "outputs": [
    {
     "data": {
      "text/plain": [
       "False"
      ]
     },
     "execution_count": 77,
     "metadata": {},
     "output_type": "execute_result"
    }
   ],
   "source": [
    "4 > 2 and 5 == 15"
   ]
  },
  {
   "cell_type": "code",
   "execution_count": 78,
   "id": "6cb79222",
   "metadata": {},
   "outputs": [
    {
     "data": {
      "text/plain": [
       "False"
      ]
     },
     "execution_count": 78,
     "metadata": {},
     "output_type": "execute_result"
    }
   ],
   "source": [
    "4 > 12 and 15 == 5"
   ]
  },
  {
   "cell_type": "code",
   "execution_count": 79,
   "id": "eaf290a1",
   "metadata": {},
   "outputs": [],
   "source": [
    "# or"
   ]
  },
  {
   "cell_type": "code",
   "execution_count": null,
   "id": "5e9295e2",
   "metadata": {},
   "outputs": [],
   "source": [
    "# T + T -> T\n",
    "# F + T -> T\n",
    "# T + F -> T\n",
    "# F + F -> F"
   ]
  },
  {
   "cell_type": "code",
   "execution_count": 80,
   "id": "22b037cb",
   "metadata": {},
   "outputs": [
    {
     "data": {
      "text/plain": [
       "True"
      ]
     },
     "execution_count": 80,
     "metadata": {},
     "output_type": "execute_result"
    }
   ],
   "source": [
    "4 > 2 or 5 == 5"
   ]
  },
  {
   "cell_type": "code",
   "execution_count": 81,
   "id": "f117c16f",
   "metadata": {},
   "outputs": [
    {
     "data": {
      "text/plain": [
       "True"
      ]
     },
     "execution_count": 81,
     "metadata": {},
     "output_type": "execute_result"
    }
   ],
   "source": [
    "4 > 12 or 5 == 5"
   ]
  },
  {
   "cell_type": "code",
   "execution_count": 82,
   "id": "29c8c331",
   "metadata": {},
   "outputs": [
    {
     "data": {
      "text/plain": [
       "True"
      ]
     },
     "execution_count": 82,
     "metadata": {},
     "output_type": "execute_result"
    }
   ],
   "source": [
    "4 > 2 or 5 == 15"
   ]
  },
  {
   "cell_type": "code",
   "execution_count": 83,
   "id": "116b4a5c",
   "metadata": {},
   "outputs": [
    {
     "data": {
      "text/plain": [
       "False"
      ]
     },
     "execution_count": 83,
     "metadata": {},
     "output_type": "execute_result"
    }
   ],
   "source": [
    "4 > 12 or 5 == 15"
   ]
  },
  {
   "cell_type": "code",
   "execution_count": 84,
   "id": "fd8b9ae3",
   "metadata": {},
   "outputs": [],
   "source": [
    "# not"
   ]
  },
  {
   "cell_type": "code",
   "execution_count": 85,
   "id": "83807d30",
   "metadata": {},
   "outputs": [
    {
     "data": {
      "text/plain": [
       "False"
      ]
     },
     "execution_count": 85,
     "metadata": {},
     "output_type": "execute_result"
    }
   ],
   "source": [
    "not True"
   ]
  },
  {
   "cell_type": "code",
   "execution_count": 86,
   "id": "e40045ec",
   "metadata": {},
   "outputs": [
    {
     "data": {
      "text/plain": [
       "True"
      ]
     },
     "execution_count": 86,
     "metadata": {},
     "output_type": "execute_result"
    }
   ],
   "source": [
    "not False"
   ]
  },
  {
   "cell_type": "code",
   "execution_count": 87,
   "id": "43bd489f",
   "metadata": {},
   "outputs": [
    {
     "data": {
      "text/plain": [
       "False"
      ]
     },
     "execution_count": 87,
     "metadata": {},
     "output_type": "execute_result"
    }
   ],
   "source": [
    "not 4 > 1"
   ]
  },
  {
   "cell_type": "code",
   "execution_count": 88,
   "id": "3f566ed0",
   "metadata": {},
   "outputs": [
    {
     "data": {
      "text/plain": [
       "True"
      ]
     },
     "execution_count": 88,
     "metadata": {},
     "output_type": "execute_result"
    }
   ],
   "source": [
    "not 4 == 5"
   ]
  },
  {
   "cell_type": "code",
   "execution_count": 89,
   "id": "984ccca0",
   "metadata": {},
   "outputs": [],
   "source": [
    "# Assignment operator"
   ]
  },
  {
   "cell_type": "code",
   "execution_count": 90,
   "id": "35c0c0f1",
   "metadata": {},
   "outputs": [],
   "source": [
    "var = 90"
   ]
  },
  {
   "cell_type": "code",
   "execution_count": 91,
   "id": "9909ed18",
   "metadata": {},
   "outputs": [
    {
     "data": {
      "text/plain": [
       "90"
      ]
     },
     "execution_count": 91,
     "metadata": {},
     "output_type": "execute_result"
    }
   ],
   "source": [
    "var"
   ]
  },
  {
   "cell_type": "code",
   "execution_count": 92,
   "id": "f953601f",
   "metadata": {},
   "outputs": [],
   "source": [
    "# compound operator"
   ]
  },
  {
   "cell_type": "code",
   "execution_count": 93,
   "id": "6bd35b60",
   "metadata": {},
   "outputs": [
    {
     "data": {
      "text/plain": [
       "90"
      ]
     },
     "execution_count": 93,
     "metadata": {},
     "output_type": "execute_result"
    }
   ],
   "source": [
    "var\n"
   ]
  },
  {
   "cell_type": "code",
   "execution_count": 94,
   "id": "3f84cd4c",
   "metadata": {},
   "outputs": [],
   "source": [
    "var = var + 5"
   ]
  },
  {
   "cell_type": "code",
   "execution_count": 95,
   "id": "132cc59f",
   "metadata": {},
   "outputs": [
    {
     "data": {
      "text/plain": [
       "95"
      ]
     },
     "execution_count": 95,
     "metadata": {},
     "output_type": "execute_result"
    }
   ],
   "source": [
    "var"
   ]
  },
  {
   "cell_type": "code",
   "execution_count": 96,
   "id": "b534ebd8",
   "metadata": {},
   "outputs": [],
   "source": [
    "var += 5 # var = var + 5"
   ]
  },
  {
   "cell_type": "code",
   "execution_count": 97,
   "id": "347511a2",
   "metadata": {},
   "outputs": [
    {
     "data": {
      "text/plain": [
       "100"
      ]
     },
     "execution_count": 97,
     "metadata": {},
     "output_type": "execute_result"
    }
   ],
   "source": [
    "var"
   ]
  },
  {
   "cell_type": "code",
   "execution_count": 98,
   "id": "0cfeb718",
   "metadata": {},
   "outputs": [],
   "source": [
    "var -= 10 # var = var - 10"
   ]
  },
  {
   "cell_type": "code",
   "execution_count": 99,
   "id": "d29a7aa8",
   "metadata": {},
   "outputs": [
    {
     "data": {
      "text/plain": [
       "90"
      ]
     },
     "execution_count": 99,
     "metadata": {},
     "output_type": "execute_result"
    }
   ],
   "source": [
    "var"
   ]
  },
  {
   "cell_type": "code",
   "execution_count": 100,
   "id": "5285384c",
   "metadata": {},
   "outputs": [],
   "source": [
    "# Identity operator"
   ]
  },
  {
   "cell_type": "code",
   "execution_count": 101,
   "id": "dc0913fc",
   "metadata": {},
   "outputs": [],
   "source": [
    "# is\n",
    "# is not"
   ]
  },
  {
   "cell_type": "code",
   "execution_count": 102,
   "id": "bca2675d",
   "metadata": {},
   "outputs": [],
   "source": [
    "v1 = 10\n",
    "v2 = 10"
   ]
  },
  {
   "cell_type": "code",
   "execution_count": 103,
   "id": "93c751e2",
   "metadata": {},
   "outputs": [
    {
     "data": {
      "text/plain": [
       "True"
      ]
     },
     "execution_count": 103,
     "metadata": {},
     "output_type": "execute_result"
    }
   ],
   "source": [
    "v1 is v2"
   ]
  },
  {
   "cell_type": "code",
   "execution_count": 104,
   "id": "322229bf",
   "metadata": {},
   "outputs": [
    {
     "data": {
      "text/plain": [
       "140716696348752"
      ]
     },
     "execution_count": 104,
     "metadata": {},
     "output_type": "execute_result"
    }
   ],
   "source": [
    "id(v1)"
   ]
  },
  {
   "cell_type": "code",
   "execution_count": 105,
   "id": "ce189ce5",
   "metadata": {},
   "outputs": [
    {
     "data": {
      "text/plain": [
       "140716696348752"
      ]
     },
     "execution_count": 105,
     "metadata": {},
     "output_type": "execute_result"
    }
   ],
   "source": [
    "id(v2)"
   ]
  },
  {
   "cell_type": "code",
   "execution_count": 107,
   "id": "492ca11b",
   "metadata": {},
   "outputs": [],
   "source": [
    "l1 = [1,2,3]\n",
    "l2 = [1,2,3]"
   ]
  },
  {
   "cell_type": "code",
   "execution_count": 108,
   "id": "e0406677",
   "metadata": {},
   "outputs": [
    {
     "data": {
      "text/plain": [
       "False"
      ]
     },
     "execution_count": 108,
     "metadata": {},
     "output_type": "execute_result"
    }
   ],
   "source": [
    "l1 is l2"
   ]
  },
  {
   "cell_type": "code",
   "execution_count": 109,
   "id": "b7b9a1e5",
   "metadata": {},
   "outputs": [
    {
     "data": {
      "text/plain": [
       "2117440633472"
      ]
     },
     "execution_count": 109,
     "metadata": {},
     "output_type": "execute_result"
    }
   ],
   "source": [
    "id(l1)"
   ]
  },
  {
   "cell_type": "code",
   "execution_count": 110,
   "id": "4de9c009",
   "metadata": {},
   "outputs": [
    {
     "data": {
      "text/plain": [
       "2117442379456"
      ]
     },
     "execution_count": 110,
     "metadata": {},
     "output_type": "execute_result"
    }
   ],
   "source": [
    "id(l2)"
   ]
  },
  {
   "cell_type": "code",
   "execution_count": 111,
   "id": "5f555774",
   "metadata": {},
   "outputs": [],
   "source": [
    "# is not"
   ]
  },
  {
   "cell_type": "code",
   "execution_count": 112,
   "id": "78cd1a4c",
   "metadata": {},
   "outputs": [
    {
     "data": {
      "text/plain": [
       "True"
      ]
     },
     "execution_count": 112,
     "metadata": {},
     "output_type": "execute_result"
    }
   ],
   "source": [
    "l1 is not l2"
   ]
  },
  {
   "cell_type": "code",
   "execution_count": 113,
   "id": "11119d15",
   "metadata": {},
   "outputs": [
    {
     "data": {
      "text/plain": [
       "False"
      ]
     },
     "execution_count": 113,
     "metadata": {},
     "output_type": "execute_result"
    }
   ],
   "source": [
    "v1 is not v1"
   ]
  },
  {
   "cell_type": "code",
   "execution_count": 114,
   "id": "379e54bb",
   "metadata": {},
   "outputs": [],
   "source": [
    "# Membership operator\n",
    "\n",
    "# in\n",
    "# not in"
   ]
  },
  {
   "cell_type": "code",
   "execution_count": 115,
   "id": "8cbea711",
   "metadata": {},
   "outputs": [],
   "source": [
    "str1 = \"GrowingSeed Technologies\""
   ]
  },
  {
   "cell_type": "code",
   "execution_count": 116,
   "id": "01a296c5",
   "metadata": {},
   "outputs": [
    {
     "data": {
      "text/plain": [
       "True"
      ]
     },
     "execution_count": 116,
     "metadata": {},
     "output_type": "execute_result"
    }
   ],
   "source": [
    "\"Seed\" in str1"
   ]
  },
  {
   "cell_type": "code",
   "execution_count": 118,
   "id": "4e3cbce8",
   "metadata": {},
   "outputs": [
    {
     "data": {
      "text/plain": [
       "True"
      ]
     },
     "execution_count": 118,
     "metadata": {},
     "output_type": "execute_result"
    }
   ],
   "source": [
    "\"Seed1\" not in str1"
   ]
  },
  {
   "cell_type": "code",
   "execution_count": 119,
   "id": "f4f340fc",
   "metadata": {},
   "outputs": [],
   "source": [
    "# Python list"
   ]
  },
  {
   "cell_type": "code",
   "execution_count": 120,
   "id": "5b44db54",
   "metadata": {},
   "outputs": [],
   "source": [
    "l1 = []"
   ]
  },
  {
   "cell_type": "code",
   "execution_count": 121,
   "id": "08590a54",
   "metadata": {},
   "outputs": [
    {
     "data": {
      "text/plain": [
       "list"
      ]
     },
     "execution_count": 121,
     "metadata": {},
     "output_type": "execute_result"
    }
   ],
   "source": [
    "type(l1)"
   ]
  },
  {
   "cell_type": "code",
   "execution_count": 1,
   "id": "4b89fae4",
   "metadata": {},
   "outputs": [],
   "source": [
    "#1. List is mutable\n",
    "#2. List can hold data of multiple types\n",
    "#3. List can contain dublicate values\n",
    "\n",
    "#4. Ordered"
   ]
  },
  {
   "cell_type": "code",
   "execution_count": 124,
   "id": "5f936560",
   "metadata": {},
   "outputs": [],
   "source": [
    "l1 = [1,2,1.3,'hello',1,2,1,2]"
   ]
  },
  {
   "cell_type": "code",
   "execution_count": 125,
   "id": "8d59946c",
   "metadata": {},
   "outputs": [
    {
     "data": {
      "text/plain": [
       "[1, 2, 1.3, 'hello', 1, 2, 1, 2]"
      ]
     },
     "execution_count": 125,
     "metadata": {},
     "output_type": "execute_result"
    }
   ],
   "source": [
    "l1"
   ]
  },
  {
   "cell_type": "code",
   "execution_count": 127,
   "id": "b692cf10",
   "metadata": {},
   "outputs": [],
   "source": [
    "#Indexing\n",
    "#Positive\n",
    "#Negative"
   ]
  },
  {
   "cell_type": "code",
   "execution_count": 132,
   "id": "b86308de",
   "metadata": {},
   "outputs": [
    {
     "data": {
      "text/plain": [
       "'hello'"
      ]
     },
     "execution_count": 132,
     "metadata": {},
     "output_type": "execute_result"
    }
   ],
   "source": [
    "l1[3]"
   ]
  },
  {
   "cell_type": "code",
   "execution_count": 134,
   "id": "006c08b6",
   "metadata": {},
   "outputs": [],
   "source": [
    "# slicing"
   ]
  },
  {
   "cell_type": "code",
   "execution_count": 135,
   "id": "2aa4d9aa",
   "metadata": {},
   "outputs": [
    {
     "data": {
      "text/plain": [
       "[2, 1.3, 'hello', 1, 2]"
      ]
     },
     "execution_count": 135,
     "metadata": {},
     "output_type": "execute_result"
    }
   ],
   "source": [
    "l1[1:6]"
   ]
  },
  {
   "cell_type": "code",
   "execution_count": 137,
   "id": "6675ca5e",
   "metadata": {},
   "outputs": [],
   "source": [
    "l1[3] = 123"
   ]
  },
  {
   "cell_type": "code",
   "execution_count": 138,
   "id": "c72ea1f2",
   "metadata": {},
   "outputs": [
    {
     "data": {
      "text/plain": [
       "[1, 2, 1.3, 123, 1, 2, 1, 2]"
      ]
     },
     "execution_count": 138,
     "metadata": {},
     "output_type": "execute_result"
    }
   ],
   "source": [
    "l1"
   ]
  },
  {
   "cell_type": "code",
   "execution_count": 139,
   "id": "9af317b3",
   "metadata": {},
   "outputs": [],
   "source": [
    "str1 = 'hello'"
   ]
  },
  {
   "cell_type": "code",
   "execution_count": 140,
   "id": "a4474e41",
   "metadata": {},
   "outputs": [
    {
     "ename": "TypeError",
     "evalue": "'str' object does not support item assignment",
     "output_type": "error",
     "traceback": [
      "\u001b[1;31m---------------------------------------------------------------------------\u001b[0m",
      "\u001b[1;31mTypeError\u001b[0m                                 Traceback (most recent call last)",
      "\u001b[1;32m<ipython-input-140-2ea3663a34a8>\u001b[0m in \u001b[0;36m<module>\u001b[1;34m\u001b[0m\n\u001b[1;32m----> 1\u001b[1;33m \u001b[0mstr1\u001b[0m\u001b[1;33m[\u001b[0m\u001b[1;36m0\u001b[0m\u001b[1;33m]\u001b[0m \u001b[1;33m=\u001b[0m \u001b[1;34m'k'\u001b[0m\u001b[1;33m\u001b[0m\u001b[1;33m\u001b[0m\u001b[0m\n\u001b[0m",
      "\u001b[1;31mTypeError\u001b[0m: 'str' object does not support item assignment"
     ]
    }
   ],
   "source": [
    "str1[0] = 'k'"
   ]
  },
  {
   "cell_type": "code",
   "execution_count": 142,
   "id": "750c8d0f",
   "metadata": {},
   "outputs": [],
   "source": [
    "# append() -> adds an element to the end of the list"
   ]
  },
  {
   "cell_type": "code",
   "execution_count": 143,
   "id": "c43c0ae9",
   "metadata": {},
   "outputs": [
    {
     "data": {
      "text/plain": [
       "[1, 2, 1.3, 123, 1, 2, 1, 2]"
      ]
     },
     "execution_count": 143,
     "metadata": {},
     "output_type": "execute_result"
    }
   ],
   "source": [
    "l1"
   ]
  },
  {
   "cell_type": "code",
   "execution_count": 144,
   "id": "0fcca8ba",
   "metadata": {},
   "outputs": [],
   "source": [
    "l1.append(23)"
   ]
  },
  {
   "cell_type": "code",
   "execution_count": 145,
   "id": "1ebd0b1d",
   "metadata": {},
   "outputs": [
    {
     "data": {
      "text/plain": [
       "[1, 2, 1.3, 123, 1, 2, 1, 2, 23]"
      ]
     },
     "execution_count": 145,
     "metadata": {},
     "output_type": "execute_result"
    }
   ],
   "source": [
    "l1"
   ]
  },
  {
   "cell_type": "code",
   "execution_count": 146,
   "id": "0d897674",
   "metadata": {},
   "outputs": [],
   "source": [
    "#extend() -> adds all the element of a list to another list"
   ]
  },
  {
   "cell_type": "code",
   "execution_count": 147,
   "id": "66e9d11d",
   "metadata": {},
   "outputs": [],
   "source": [
    "l2 = [2,3,4,1]"
   ]
  },
  {
   "cell_type": "code",
   "execution_count": 148,
   "id": "8eac3b15",
   "metadata": {},
   "outputs": [],
   "source": [
    "l2.extend(l1)"
   ]
  },
  {
   "cell_type": "code",
   "execution_count": 149,
   "id": "3cc82c1f",
   "metadata": {},
   "outputs": [
    {
     "data": {
      "text/plain": [
       "[2, 3, 4, 1, 1, 2, 1.3, 123, 1, 2, 1, 2, 23]"
      ]
     },
     "execution_count": 149,
     "metadata": {},
     "output_type": "execute_result"
    }
   ],
   "source": [
    "l2"
   ]
  },
  {
   "cell_type": "code",
   "execution_count": 150,
   "id": "549a78c4",
   "metadata": {},
   "outputs": [
    {
     "data": {
      "text/plain": [
       "[2, 3, 4, 1, 1, 2, 1.3, 123, 1, 2, 1, 2, 23]"
      ]
     },
     "execution_count": 150,
     "metadata": {},
     "output_type": "execute_result"
    }
   ],
   "source": [
    "l2"
   ]
  },
  {
   "cell_type": "code",
   "execution_count": 151,
   "id": "571e9647",
   "metadata": {},
   "outputs": [],
   "source": [
    "#insert() -> inserts an item at the defined index"
   ]
  },
  {
   "cell_type": "code",
   "execution_count": 152,
   "id": "38c2e657",
   "metadata": {},
   "outputs": [
    {
     "data": {
      "text/plain": [
       "[2, 3, 4, 1, 1, 2, 1.3, 123, 1, 2, 1, 2, 23]"
      ]
     },
     "execution_count": 152,
     "metadata": {},
     "output_type": "execute_result"
    }
   ],
   "source": [
    "l2"
   ]
  },
  {
   "cell_type": "code",
   "execution_count": 153,
   "id": "d41ff451",
   "metadata": {},
   "outputs": [],
   "source": [
    "l2.insert(3,11)"
   ]
  },
  {
   "cell_type": "code",
   "execution_count": 154,
   "id": "8f280e43",
   "metadata": {},
   "outputs": [
    {
     "data": {
      "text/plain": [
       "[2, 3, 4, 11, 1, 1, 2, 1.3, 123, 1, 2, 1, 2, 23]"
      ]
     },
     "execution_count": 154,
     "metadata": {},
     "output_type": "execute_result"
    }
   ],
   "source": [
    "l2"
   ]
  },
  {
   "cell_type": "code",
   "execution_count": 2,
   "id": "4046cda1",
   "metadata": {},
   "outputs": [],
   "source": [
    "# remove() -> removes an element from the list"
   ]
  },
  {
   "cell_type": "code",
   "execution_count": 3,
   "id": "0a8fcde0",
   "metadata": {},
   "outputs": [],
   "source": [
    "l3 = [2, 3, 4, 11, 1, 1, 2, 1.3, 123, 1, 2, 1, 2, 23]"
   ]
  },
  {
   "cell_type": "code",
   "execution_count": 4,
   "id": "9efce906",
   "metadata": {},
   "outputs": [],
   "source": [
    "l3.remove(2)"
   ]
  },
  {
   "cell_type": "code",
   "execution_count": 6,
   "id": "fb0d3de2",
   "metadata": {},
   "outputs": [
    {
     "data": {
      "text/plain": [
       "[3, 4, 11, 1, 1, 2, 1.3, 123, 1, 2, 1, 2, 23]"
      ]
     },
     "execution_count": 6,
     "metadata": {},
     "output_type": "execute_result"
    }
   ],
   "source": [
    "l3"
   ]
  },
  {
   "cell_type": "code",
   "execution_count": 7,
   "id": "b142d2a0",
   "metadata": {},
   "outputs": [],
   "source": [
    "l3.remove(2)"
   ]
  },
  {
   "cell_type": "code",
   "execution_count": 8,
   "id": "428ee0a6",
   "metadata": {},
   "outputs": [
    {
     "data": {
      "text/plain": [
       "[3, 4, 11, 1, 1, 1.3, 123, 1, 2, 1, 2, 23]"
      ]
     },
     "execution_count": 8,
     "metadata": {},
     "output_type": "execute_result"
    }
   ],
   "source": [
    "l3"
   ]
  },
  {
   "cell_type": "code",
   "execution_count": 9,
   "id": "3ea996f2",
   "metadata": {},
   "outputs": [
    {
     "ename": "ValueError",
     "evalue": "list.remove(x): x not in list",
     "output_type": "error",
     "traceback": [
      "\u001b[1;31m---------------------------------------------------------------------------\u001b[0m",
      "\u001b[1;31mValueError\u001b[0m                                Traceback (most recent call last)",
      "\u001b[1;32m<ipython-input-9-cec18fd2b224>\u001b[0m in \u001b[0;36m<module>\u001b[1;34m\u001b[0m\n\u001b[1;32m----> 1\u001b[1;33m \u001b[0ml3\u001b[0m\u001b[1;33m.\u001b[0m\u001b[0mremove\u001b[0m\u001b[1;33m(\u001b[0m\u001b[1;36m124\u001b[0m\u001b[1;33m)\u001b[0m\u001b[1;33m\u001b[0m\u001b[1;33m\u001b[0m\u001b[0m\n\u001b[0m",
      "\u001b[1;31mValueError\u001b[0m: list.remove(x): x not in list"
     ]
    }
   ],
   "source": [
    "l3.remove(124)"
   ]
  },
  {
   "cell_type": "code",
   "execution_count": 10,
   "id": "00d240e6",
   "metadata": {},
   "outputs": [],
   "source": [
    "#pop() -> returns and removes an element at the given index"
   ]
  },
  {
   "cell_type": "code",
   "execution_count": 11,
   "id": "8dc232d2",
   "metadata": {},
   "outputs": [
    {
     "data": {
      "text/plain": [
       "23"
      ]
     },
     "execution_count": 11,
     "metadata": {},
     "output_type": "execute_result"
    }
   ],
   "source": [
    "l3.pop()"
   ]
  },
  {
   "cell_type": "code",
   "execution_count": 12,
   "id": "59b88c25",
   "metadata": {},
   "outputs": [
    {
     "data": {
      "text/plain": [
       "[3, 4, 11, 1, 1, 1.3, 123, 1, 2, 1, 2]"
      ]
     },
     "execution_count": 12,
     "metadata": {},
     "output_type": "execute_result"
    }
   ],
   "source": [
    "l3"
   ]
  },
  {
   "cell_type": "code",
   "execution_count": 13,
   "id": "efd3bed3",
   "metadata": {},
   "outputs": [],
   "source": [
    "v1 = l3.pop()"
   ]
  },
  {
   "cell_type": "code",
   "execution_count": 14,
   "id": "d7b69776",
   "metadata": {},
   "outputs": [
    {
     "data": {
      "text/plain": [
       "2"
      ]
     },
     "execution_count": 14,
     "metadata": {},
     "output_type": "execute_result"
    }
   ],
   "source": [
    "v1"
   ]
  },
  {
   "cell_type": "code",
   "execution_count": 15,
   "id": "4f988a3b",
   "metadata": {},
   "outputs": [],
   "source": [
    "v2 = l3.remove(1)"
   ]
  },
  {
   "cell_type": "code",
   "execution_count": 16,
   "id": "5b8b8b3f",
   "metadata": {},
   "outputs": [],
   "source": [
    "v2"
   ]
  },
  {
   "cell_type": "code",
   "execution_count": 17,
   "id": "5fc10bad",
   "metadata": {},
   "outputs": [
    {
     "name": "stdout",
     "output_type": "stream",
     "text": [
      "None\n"
     ]
    }
   ],
   "source": [
    "print(v2)"
   ]
  },
  {
   "cell_type": "code",
   "execution_count": 18,
   "id": "3dede1ed",
   "metadata": {},
   "outputs": [
    {
     "data": {
      "text/plain": [
       "[3, 4, 11, 1, 1.3, 123, 1, 2, 1]"
      ]
     },
     "execution_count": 18,
     "metadata": {},
     "output_type": "execute_result"
    }
   ],
   "source": [
    "l3"
   ]
  },
  {
   "cell_type": "code",
   "execution_count": 19,
   "id": "c9cd0d36",
   "metadata": {},
   "outputs": [
    {
     "data": {
      "text/plain": [
       "1.3"
      ]
     },
     "execution_count": 19,
     "metadata": {},
     "output_type": "execute_result"
    }
   ],
   "source": [
    "l3.pop(4)"
   ]
  },
  {
   "cell_type": "code",
   "execution_count": 20,
   "id": "ab5971c3",
   "metadata": {},
   "outputs": [
    {
     "data": {
      "text/plain": [
       "[3, 4, 11, 1, 123, 1, 2, 1]"
      ]
     },
     "execution_count": 20,
     "metadata": {},
     "output_type": "execute_result"
    }
   ],
   "source": [
    "l3"
   ]
  },
  {
   "cell_type": "code",
   "execution_count": 21,
   "id": "96553799",
   "metadata": {},
   "outputs": [],
   "source": [
    "l3.clear()"
   ]
  },
  {
   "cell_type": "code",
   "execution_count": 22,
   "id": "ce5b5c52",
   "metadata": {},
   "outputs": [
    {
     "data": {
      "text/plain": [
       "[]"
      ]
     },
     "execution_count": 22,
     "metadata": {},
     "output_type": "execute_result"
    }
   ],
   "source": [
    "l3"
   ]
  },
  {
   "cell_type": "code",
   "execution_count": 23,
   "id": "7b0b9ecf",
   "metadata": {},
   "outputs": [
    {
     "data": {
      "text/plain": [
       "[]"
      ]
     },
     "execution_count": 23,
     "metadata": {},
     "output_type": "execute_result"
    }
   ],
   "source": [
    "l3"
   ]
  },
  {
   "cell_type": "code",
   "execution_count": 24,
   "id": "6d33f405",
   "metadata": {},
   "outputs": [],
   "source": [
    "del l3"
   ]
  },
  {
   "cell_type": "code",
   "execution_count": 25,
   "id": "4ba4cbc7",
   "metadata": {},
   "outputs": [
    {
     "ename": "NameError",
     "evalue": "name 'l3' is not defined",
     "output_type": "error",
     "traceback": [
      "\u001b[1;31m---------------------------------------------------------------------------\u001b[0m",
      "\u001b[1;31mNameError\u001b[0m                                 Traceback (most recent call last)",
      "\u001b[1;32m<ipython-input-25-b8fff4990345>\u001b[0m in \u001b[0;36m<module>\u001b[1;34m\u001b[0m\n\u001b[1;32m----> 1\u001b[1;33m \u001b[0ml3\u001b[0m\u001b[1;33m\u001b[0m\u001b[1;33m\u001b[0m\u001b[0m\n\u001b[0m",
      "\u001b[1;31mNameError\u001b[0m: name 'l3' is not defined"
     ]
    }
   ],
   "source": [
    "l3"
   ]
  },
  {
   "cell_type": "code",
   "execution_count": 26,
   "id": "bc29b5d1",
   "metadata": {},
   "outputs": [],
   "source": [
    "l4 = [3, 4, 11, 1, 1.3, 123, 1, 2, 1]"
   ]
  },
  {
   "cell_type": "code",
   "execution_count": 27,
   "id": "fbdc16eb",
   "metadata": {},
   "outputs": [],
   "source": [
    "del l4[3:7]"
   ]
  },
  {
   "cell_type": "code",
   "execution_count": 28,
   "id": "eb7eb002",
   "metadata": {},
   "outputs": [
    {
     "data": {
      "text/plain": [
       "[3, 4, 11, 2, 1]"
      ]
     },
     "execution_count": 28,
     "metadata": {},
     "output_type": "execute_result"
    }
   ],
   "source": [
    "l4"
   ]
  },
  {
   "cell_type": "code",
   "execution_count": 29,
   "id": "fdd6febf",
   "metadata": {},
   "outputs": [],
   "source": [
    "l4 = [3, 4, 11, 1, 1.3, 123, 1, 2, 1]"
   ]
  },
  {
   "cell_type": "code",
   "execution_count": 32,
   "id": "6c16fae4",
   "metadata": {},
   "outputs": [
    {
     "ename": "ValueError",
     "evalue": "111 is not in list",
     "output_type": "error",
     "traceback": [
      "\u001b[1;31m---------------------------------------------------------------------------\u001b[0m",
      "\u001b[1;31mValueError\u001b[0m                                Traceback (most recent call last)",
      "\u001b[1;32m<ipython-input-32-70005b2f9a70>\u001b[0m in \u001b[0;36m<module>\u001b[1;34m\u001b[0m\n\u001b[1;32m----> 1\u001b[1;33m \u001b[0ml4\u001b[0m\u001b[1;33m.\u001b[0m\u001b[0mindex\u001b[0m\u001b[1;33m(\u001b[0m\u001b[1;36m111\u001b[0m\u001b[1;33m,\u001b[0m\u001b[1;36m4\u001b[0m\u001b[1;33m,\u001b[0m\u001b[1;36m8\u001b[0m\u001b[1;33m)\u001b[0m\u001b[1;33m\u001b[0m\u001b[1;33m\u001b[0m\u001b[0m\n\u001b[0m",
      "\u001b[1;31mValueError\u001b[0m: 111 is not in list"
     ]
    }
   ],
   "source": [
    "l4.index(111,4,8)"
   ]
  },
  {
   "cell_type": "code",
   "execution_count": 33,
   "id": "9818ecc7",
   "metadata": {},
   "outputs": [
    {
     "data": {
      "text/plain": [
       "3"
      ]
     },
     "execution_count": 33,
     "metadata": {},
     "output_type": "execute_result"
    }
   ],
   "source": [
    "l4.count(1)"
   ]
  },
  {
   "cell_type": "code",
   "execution_count": 34,
   "id": "11bc81c8",
   "metadata": {},
   "outputs": [],
   "source": [
    "l4.sort()"
   ]
  },
  {
   "cell_type": "code",
   "execution_count": 35,
   "id": "0ce04333",
   "metadata": {},
   "outputs": [
    {
     "data": {
      "text/plain": [
       "[1, 1, 1, 1.3, 2, 3, 4, 11, 123]"
      ]
     },
     "execution_count": 35,
     "metadata": {},
     "output_type": "execute_result"
    }
   ],
   "source": [
    "l4"
   ]
  },
  {
   "cell_type": "code",
   "execution_count": 36,
   "id": "36ced1e1",
   "metadata": {},
   "outputs": [],
   "source": [
    "l4.sort(reverse=True)"
   ]
  },
  {
   "cell_type": "code",
   "execution_count": 37,
   "id": "a4bf0096",
   "metadata": {},
   "outputs": [
    {
     "data": {
      "text/plain": [
       "[123, 11, 4, 3, 2, 1.3, 1, 1, 1]"
      ]
     },
     "execution_count": 37,
     "metadata": {},
     "output_type": "execute_result"
    }
   ],
   "source": [
    "l4"
   ]
  },
  {
   "cell_type": "code",
   "execution_count": 38,
   "id": "26fea726",
   "metadata": {},
   "outputs": [],
   "source": [
    "l4 = [3, 4, 11, 1, 1.3, 123, 1, 2, 1]"
   ]
  },
  {
   "cell_type": "code",
   "execution_count": 39,
   "id": "46fabe7d",
   "metadata": {},
   "outputs": [],
   "source": [
    "l4.reverse()"
   ]
  },
  {
   "cell_type": "code",
   "execution_count": 40,
   "id": "782bc5f6",
   "metadata": {},
   "outputs": [
    {
     "data": {
      "text/plain": [
       "[1, 2, 1, 123, 1.3, 1, 11, 4, 3]"
      ]
     },
     "execution_count": 40,
     "metadata": {},
     "output_type": "execute_result"
    }
   ],
   "source": [
    "l4"
   ]
  },
  {
   "cell_type": "code",
   "execution_count": 41,
   "id": "cb92faca",
   "metadata": {},
   "outputs": [
    {
     "data": {
      "text/plain": [
       "[1, 2, 1, 123, 1.3, 1, 11, 4, 3]"
      ]
     },
     "execution_count": 41,
     "metadata": {},
     "output_type": "execute_result"
    }
   ],
   "source": [
    "l4"
   ]
  },
  {
   "cell_type": "code",
   "execution_count": 42,
   "id": "e256577c",
   "metadata": {},
   "outputs": [],
   "source": [
    "l5 = l4"
   ]
  },
  {
   "cell_type": "code",
   "execution_count": 43,
   "id": "dc36b5ac",
   "metadata": {},
   "outputs": [
    {
     "data": {
      "text/plain": [
       "[1, 2, 1, 123, 1.3, 1, 11, 4, 3]"
      ]
     },
     "execution_count": 43,
     "metadata": {},
     "output_type": "execute_result"
    }
   ],
   "source": [
    "l5"
   ]
  },
  {
   "cell_type": "code",
   "execution_count": 44,
   "id": "ae096e4e",
   "metadata": {},
   "outputs": [
    {
     "data": {
      "text/plain": [
       "[1, 2, 1, 123, 1.3, 1, 11, 4, 3]"
      ]
     },
     "execution_count": 44,
     "metadata": {},
     "output_type": "execute_result"
    }
   ],
   "source": [
    "l4"
   ]
  },
  {
   "cell_type": "code",
   "execution_count": 45,
   "id": "1703ceeb",
   "metadata": {},
   "outputs": [
    {
     "data": {
      "text/plain": [
       "2931998964160"
      ]
     },
     "execution_count": 45,
     "metadata": {},
     "output_type": "execute_result"
    }
   ],
   "source": [
    "id(l5)"
   ]
  },
  {
   "cell_type": "code",
   "execution_count": 46,
   "id": "8eeb9e5f",
   "metadata": {},
   "outputs": [
    {
     "data": {
      "text/plain": [
       "2931998964160"
      ]
     },
     "execution_count": 46,
     "metadata": {},
     "output_type": "execute_result"
    }
   ],
   "source": [
    "id(l4)"
   ]
  },
  {
   "cell_type": "code",
   "execution_count": 47,
   "id": "659f666c",
   "metadata": {},
   "outputs": [],
   "source": [
    "l5.append(1234)"
   ]
  },
  {
   "cell_type": "code",
   "execution_count": 48,
   "id": "b1aa612b",
   "metadata": {},
   "outputs": [
    {
     "data": {
      "text/plain": [
       "[1, 2, 1, 123, 1.3, 1, 11, 4, 3, 1234]"
      ]
     },
     "execution_count": 48,
     "metadata": {},
     "output_type": "execute_result"
    }
   ],
   "source": [
    "l5"
   ]
  },
  {
   "cell_type": "code",
   "execution_count": 49,
   "id": "a13f43eb",
   "metadata": {},
   "outputs": [
    {
     "data": {
      "text/plain": [
       "[1, 2, 1, 123, 1.3, 1, 11, 4, 3, 1234]"
      ]
     },
     "execution_count": 49,
     "metadata": {},
     "output_type": "execute_result"
    }
   ],
   "source": [
    "l4"
   ]
  },
  {
   "cell_type": "code",
   "execution_count": 50,
   "id": "fa80c545",
   "metadata": {},
   "outputs": [],
   "source": [
    "l6 = l4.copy()"
   ]
  },
  {
   "cell_type": "code",
   "execution_count": 51,
   "id": "1bfe1d16",
   "metadata": {},
   "outputs": [
    {
     "data": {
      "text/plain": [
       "[1, 2, 1, 123, 1.3, 1, 11, 4, 3, 1234]"
      ]
     },
     "execution_count": 51,
     "metadata": {},
     "output_type": "execute_result"
    }
   ],
   "source": [
    "l6"
   ]
  },
  {
   "cell_type": "code",
   "execution_count": 52,
   "id": "37586907",
   "metadata": {},
   "outputs": [
    {
     "data": {
      "text/plain": [
       "[1, 2, 1, 123, 1.3, 1, 11, 4, 3, 1234]"
      ]
     },
     "execution_count": 52,
     "metadata": {},
     "output_type": "execute_result"
    }
   ],
   "source": [
    "l4"
   ]
  },
  {
   "cell_type": "code",
   "execution_count": 53,
   "id": "37ec0e87",
   "metadata": {},
   "outputs": [
    {
     "data": {
      "text/plain": [
       "2931998937408"
      ]
     },
     "execution_count": 53,
     "metadata": {},
     "output_type": "execute_result"
    }
   ],
   "source": [
    "id(l6)"
   ]
  },
  {
   "cell_type": "code",
   "execution_count": 54,
   "id": "34f21385",
   "metadata": {},
   "outputs": [
    {
     "data": {
      "text/plain": [
       "2931998964160"
      ]
     },
     "execution_count": 54,
     "metadata": {},
     "output_type": "execute_result"
    }
   ],
   "source": [
    "id(l4)"
   ]
  },
  {
   "cell_type": "code",
   "execution_count": 55,
   "id": "bb749646",
   "metadata": {},
   "outputs": [
    {
     "data": {
      "text/plain": [
       "1234"
      ]
     },
     "execution_count": 55,
     "metadata": {},
     "output_type": "execute_result"
    }
   ],
   "source": [
    "l4.pop()"
   ]
  },
  {
   "cell_type": "code",
   "execution_count": 56,
   "id": "3cca88bf",
   "metadata": {},
   "outputs": [
    {
     "data": {
      "text/plain": [
       "[1, 2, 1, 123, 1.3, 1, 11, 4, 3]"
      ]
     },
     "execution_count": 56,
     "metadata": {},
     "output_type": "execute_result"
    }
   ],
   "source": [
    "l4"
   ]
  },
  {
   "cell_type": "code",
   "execution_count": 57,
   "id": "2eeb1022",
   "metadata": {},
   "outputs": [
    {
     "data": {
      "text/plain": [
       "[1, 2, 1, 123, 1.3, 1, 11, 4, 3, 1234]"
      ]
     },
     "execution_count": 57,
     "metadata": {},
     "output_type": "execute_result"
    }
   ],
   "source": [
    "l6"
   ]
  },
  {
   "cell_type": "code",
   "execution_count": 58,
   "id": "00f6a289",
   "metadata": {},
   "outputs": [],
   "source": [
    "#Nested list"
   ]
  },
  {
   "cell_type": "code",
   "execution_count": 59,
   "id": "b6025653",
   "metadata": {},
   "outputs": [],
   "source": [
    "l1 = [1,2,3,[4,5,6,[7,8,9]]]"
   ]
  },
  {
   "cell_type": "code",
   "execution_count": 62,
   "id": "ba154224",
   "metadata": {},
   "outputs": [
    {
     "data": {
      "text/plain": [
       "9"
      ]
     },
     "execution_count": 62,
     "metadata": {},
     "output_type": "execute_result"
    }
   ],
   "source": [
    "l1[3][3][2]"
   ]
  },
  {
   "cell_type": "code",
   "execution_count": 63,
   "id": "311cc015",
   "metadata": {},
   "outputs": [],
   "source": [
    "#Tuple"
   ]
  },
  {
   "cell_type": "code",
   "execution_count": 64,
   "id": "985fd8b4",
   "metadata": {},
   "outputs": [],
   "source": [
    "#1. immutable\n",
    "#2. can hold data of multiple types\n",
    "#3. can contain dublicate values\n",
    "\n",
    "#4. Ordered"
   ]
  },
  {
   "cell_type": "code",
   "execution_count": 65,
   "id": "5350a4fc",
   "metadata": {},
   "outputs": [],
   "source": [
    "t1 = 2,3,4,5"
   ]
  },
  {
   "cell_type": "code",
   "execution_count": 66,
   "id": "2ef5e81e",
   "metadata": {},
   "outputs": [
    {
     "data": {
      "text/plain": [
       "(2, 3, 4, 5)"
      ]
     },
     "execution_count": 66,
     "metadata": {},
     "output_type": "execute_result"
    }
   ],
   "source": [
    "t1"
   ]
  },
  {
   "cell_type": "code",
   "execution_count": 67,
   "id": "d7b9d151",
   "metadata": {},
   "outputs": [],
   "source": [
    "t2 = (3,4,5,6,74,5,3)"
   ]
  },
  {
   "cell_type": "code",
   "execution_count": 68,
   "id": "a7420f96",
   "metadata": {
    "scrolled": true
   },
   "outputs": [
    {
     "data": {
      "text/plain": [
       "tuple"
      ]
     },
     "execution_count": 68,
     "metadata": {},
     "output_type": "execute_result"
    }
   ],
   "source": [
    "type(t2)"
   ]
  },
  {
   "cell_type": "code",
   "execution_count": 70,
   "id": "0777f41e",
   "metadata": {},
   "outputs": [
    {
     "ename": "TypeError",
     "evalue": "'tuple' object does not support item assignment",
     "output_type": "error",
     "traceback": [
      "\u001b[1;31m---------------------------------------------------------------------------\u001b[0m",
      "\u001b[1;31mTypeError\u001b[0m                                 Traceback (most recent call last)",
      "\u001b[1;32m<ipython-input-70-4fe6c86ba245>\u001b[0m in \u001b[0;36m<module>\u001b[1;34m\u001b[0m\n\u001b[1;32m----> 1\u001b[1;33m \u001b[0mt2\u001b[0m\u001b[1;33m[\u001b[0m\u001b[1;36m1\u001b[0m\u001b[1;33m]\u001b[0m \u001b[1;33m=\u001b[0m \u001b[1;36m44\u001b[0m\u001b[1;33m\u001b[0m\u001b[1;33m\u001b[0m\u001b[0m\n\u001b[0m",
      "\u001b[1;31mTypeError\u001b[0m: 'tuple' object does not support item assignment"
     ]
    }
   ],
   "source": [
    "t2[1] = 44"
   ]
  },
  {
   "cell_type": "code",
   "execution_count": 71,
   "id": "2ed46729",
   "metadata": {},
   "outputs": [],
   "source": [
    "del t2"
   ]
  },
  {
   "cell_type": "code",
   "execution_count": 75,
   "id": "55432946",
   "metadata": {},
   "outputs": [],
   "source": [
    "t2 = (3,4,5,6,74,5,3,[3,4,5,])"
   ]
  },
  {
   "cell_type": "code",
   "execution_count": 73,
   "id": "25d09377",
   "metadata": {},
   "outputs": [
    {
     "data": {
      "text/plain": [
       "2"
      ]
     },
     "execution_count": 73,
     "metadata": {},
     "output_type": "execute_result"
    }
   ],
   "source": [
    "t2.count(3)"
   ]
  },
  {
   "cell_type": "code",
   "execution_count": 74,
   "id": "deb5c6bb",
   "metadata": {},
   "outputs": [
    {
     "data": {
      "text/plain": [
       "0"
      ]
     },
     "execution_count": 74,
     "metadata": {},
     "output_type": "execute_result"
    }
   ],
   "source": [
    "t2.index(3)"
   ]
  },
  {
   "cell_type": "code",
   "execution_count": 77,
   "id": "6bc80f12",
   "metadata": {},
   "outputs": [],
   "source": [
    "t2[-1].append(34)"
   ]
  },
  {
   "cell_type": "code",
   "execution_count": 78,
   "id": "3b395b0c",
   "metadata": {},
   "outputs": [
    {
     "data": {
      "text/plain": [
       "(3, 4, 5, 6, 74, 5, 3, [3, 4, 5, 34])"
      ]
     },
     "execution_count": 78,
     "metadata": {},
     "output_type": "execute_result"
    }
   ],
   "source": [
    "t2"
   ]
  },
  {
   "cell_type": "code",
   "execution_count": 80,
   "id": "aa8fa795",
   "metadata": {},
   "outputs": [],
   "source": [
    "#Set\n",
    "\n",
    "#1. Unordered collection\n",
    "#2. Unique\n",
    "#3. Set element -> immutable\n",
    "#4. Set -> Mutable"
   ]
  },
  {
   "cell_type": "code",
   "execution_count": 90,
   "id": "fe59426a",
   "metadata": {},
   "outputs": [],
   "source": [
    "s1 = {1,2,3,1,2,'string',(1,2,3)}"
   ]
  },
  {
   "cell_type": "code",
   "execution_count": 83,
   "id": "5efd9635",
   "metadata": {},
   "outputs": [],
   "source": [
    "# type(s1)"
   ]
  },
  {
   "cell_type": "code",
   "execution_count": 85,
   "id": "8ce58be6",
   "metadata": {},
   "outputs": [
    {
     "data": {
      "text/plain": [
       "{1, 2, 3}"
      ]
     },
     "execution_count": 85,
     "metadata": {},
     "output_type": "execute_result"
    }
   ],
   "source": [
    "s1"
   ]
  },
  {
   "cell_type": "code",
   "execution_count": 91,
   "id": "ffe05992",
   "metadata": {},
   "outputs": [],
   "source": [
    "s1.add(12)"
   ]
  },
  {
   "cell_type": "code",
   "execution_count": 92,
   "id": "13abb4fb",
   "metadata": {},
   "outputs": [
    {
     "data": {
      "text/plain": [
       "{(1, 2, 3), 1, 12, 2, 3, 'string'}"
      ]
     },
     "execution_count": 92,
     "metadata": {},
     "output_type": "execute_result"
    }
   ],
   "source": [
    "s1"
   ]
  },
  {
   "cell_type": "code",
   "execution_count": 93,
   "id": "ec40117b",
   "metadata": {},
   "outputs": [],
   "source": [
    "s2 = {1,2,23}"
   ]
  },
  {
   "cell_type": "code",
   "execution_count": 94,
   "id": "3e0ee0c2",
   "metadata": {},
   "outputs": [],
   "source": [
    "s1.update(s2)"
   ]
  },
  {
   "cell_type": "code",
   "execution_count": 95,
   "id": "8e870feb",
   "metadata": {},
   "outputs": [
    {
     "data": {
      "text/plain": [
       "{(1, 2, 3), 1, 12, 2, 23, 3, 'string'}"
      ]
     },
     "execution_count": 95,
     "metadata": {},
     "output_type": "execute_result"
    }
   ],
   "source": [
    "s1"
   ]
  },
  {
   "cell_type": "code",
   "execution_count": 96,
   "id": "ba6a5e5c",
   "metadata": {},
   "outputs": [],
   "source": [
    "s2.update([1,2,3,4,5])"
   ]
  },
  {
   "cell_type": "code",
   "execution_count": 97,
   "id": "3a6e2b95",
   "metadata": {},
   "outputs": [
    {
     "data": {
      "text/plain": [
       "{1, 2, 3, 4, 5, 23}"
      ]
     },
     "execution_count": 97,
     "metadata": {},
     "output_type": "execute_result"
    }
   ],
   "source": [
    "s2"
   ]
  },
  {
   "cell_type": "code",
   "execution_count": 98,
   "id": "3b78d69e",
   "metadata": {},
   "outputs": [],
   "source": [
    "s2.remove(3)"
   ]
  },
  {
   "cell_type": "code",
   "execution_count": 99,
   "id": "991fd929",
   "metadata": {},
   "outputs": [
    {
     "data": {
      "text/plain": [
       "{1, 2, 4, 5, 23}"
      ]
     },
     "execution_count": 99,
     "metadata": {},
     "output_type": "execute_result"
    }
   ],
   "source": [
    "s2"
   ]
  },
  {
   "cell_type": "code",
   "execution_count": 100,
   "id": "09a062ce",
   "metadata": {},
   "outputs": [],
   "source": [
    "s2.discard(2)"
   ]
  },
  {
   "cell_type": "code",
   "execution_count": 101,
   "id": "f9e2e5ce",
   "metadata": {},
   "outputs": [
    {
     "data": {
      "text/plain": [
       "{1, 4, 5, 23}"
      ]
     },
     "execution_count": 101,
     "metadata": {},
     "output_type": "execute_result"
    }
   ],
   "source": [
    "s2"
   ]
  },
  {
   "cell_type": "code",
   "execution_count": 102,
   "id": "6fd30ffb",
   "metadata": {},
   "outputs": [
    {
     "ename": "KeyError",
     "evalue": "33",
     "output_type": "error",
     "traceback": [
      "\u001b[1;31m---------------------------------------------------------------------------\u001b[0m",
      "\u001b[1;31mKeyError\u001b[0m                                  Traceback (most recent call last)",
      "\u001b[1;32m<ipython-input-102-430a6b03c822>\u001b[0m in \u001b[0;36m<module>\u001b[1;34m\u001b[0m\n\u001b[1;32m----> 1\u001b[1;33m \u001b[0ms2\u001b[0m\u001b[1;33m.\u001b[0m\u001b[0mremove\u001b[0m\u001b[1;33m(\u001b[0m\u001b[1;36m33\u001b[0m\u001b[1;33m)\u001b[0m\u001b[1;33m\u001b[0m\u001b[1;33m\u001b[0m\u001b[0m\n\u001b[0m",
      "\u001b[1;31mKeyError\u001b[0m: 33"
     ]
    }
   ],
   "source": [
    "s2.remove(33)"
   ]
  },
  {
   "cell_type": "code",
   "execution_count": 103,
   "id": "1381a889",
   "metadata": {},
   "outputs": [],
   "source": [
    "s2.discard(22)"
   ]
  },
  {
   "cell_type": "code",
   "execution_count": 104,
   "id": "9f7e6eb6",
   "metadata": {},
   "outputs": [
    {
     "data": {
      "text/plain": [
       "1"
      ]
     },
     "execution_count": 104,
     "metadata": {},
     "output_type": "execute_result"
    }
   ],
   "source": [
    "s2.pop()"
   ]
  },
  {
   "cell_type": "code",
   "execution_count": 105,
   "id": "6623889d",
   "metadata": {},
   "outputs": [
    {
     "data": {
      "text/plain": [
       "{4, 5, 23}"
      ]
     },
     "execution_count": 105,
     "metadata": {},
     "output_type": "execute_result"
    }
   ],
   "source": [
    "s2"
   ]
  },
  {
   "cell_type": "code",
   "execution_count": 106,
   "id": "b4548609",
   "metadata": {},
   "outputs": [],
   "source": [
    "s2.clear()"
   ]
  },
  {
   "cell_type": "code",
   "execution_count": 107,
   "id": "3350a650",
   "metadata": {},
   "outputs": [
    {
     "data": {
      "text/plain": [
       "set()"
      ]
     },
     "execution_count": 107,
     "metadata": {},
     "output_type": "execute_result"
    }
   ],
   "source": [
    "s2"
   ]
  },
  {
   "cell_type": "code",
   "execution_count": 108,
   "id": "df85fc15",
   "metadata": {},
   "outputs": [],
   "source": [
    "del s2"
   ]
  },
  {
   "cell_type": "code",
   "execution_count": 109,
   "id": "127dd5df",
   "metadata": {},
   "outputs": [
    {
     "ename": "NameError",
     "evalue": "name 's2' is not defined",
     "output_type": "error",
     "traceback": [
      "\u001b[1;31m---------------------------------------------------------------------------\u001b[0m",
      "\u001b[1;31mNameError\u001b[0m                                 Traceback (most recent call last)",
      "\u001b[1;32m<ipython-input-109-630081a5992e>\u001b[0m in \u001b[0;36m<module>\u001b[1;34m\u001b[0m\n\u001b[1;32m----> 1\u001b[1;33m \u001b[0ms2\u001b[0m\u001b[1;33m\u001b[0m\u001b[1;33m\u001b[0m\u001b[0m\n\u001b[0m",
      "\u001b[1;31mNameError\u001b[0m: name 's2' is not defined"
     ]
    }
   ],
   "source": [
    "s2"
   ]
  },
  {
   "cell_type": "code",
   "execution_count": 110,
   "id": "e52b4d15",
   "metadata": {},
   "outputs": [],
   "source": [
    "#Set operations"
   ]
  },
  {
   "cell_type": "code",
   "execution_count": 111,
   "id": "02e91a05",
   "metadata": {},
   "outputs": [],
   "source": [
    "a = {1, 2, 3, 4, 5}\n",
    "b = {4, 5, 6, 7, 8}"
   ]
  },
  {
   "cell_type": "code",
   "execution_count": 112,
   "id": "b91472f4",
   "metadata": {},
   "outputs": [
    {
     "data": {
      "text/plain": [
       "{1, 2, 3, 4, 5, 6, 7, 8}"
      ]
     },
     "execution_count": 112,
     "metadata": {},
     "output_type": "execute_result"
    }
   ],
   "source": [
    "a | b"
   ]
  },
  {
   "cell_type": "code",
   "execution_count": 113,
   "id": "dcd1b7ea",
   "metadata": {},
   "outputs": [
    {
     "data": {
      "text/plain": [
       "{1, 2, 3, 4, 5, 6, 7, 8}"
      ]
     },
     "execution_count": 113,
     "metadata": {},
     "output_type": "execute_result"
    }
   ],
   "source": [
    "a.union(b)"
   ]
  },
  {
   "cell_type": "code",
   "execution_count": 114,
   "id": "7f5176f6",
   "metadata": {},
   "outputs": [
    {
     "data": {
      "text/plain": [
       "{4, 5}"
      ]
     },
     "execution_count": 114,
     "metadata": {},
     "output_type": "execute_result"
    }
   ],
   "source": [
    "a & b"
   ]
  },
  {
   "cell_type": "code",
   "execution_count": 116,
   "id": "dadf6052",
   "metadata": {},
   "outputs": [
    {
     "data": {
      "text/plain": [
       "{4, 5}"
      ]
     },
     "execution_count": 116,
     "metadata": {},
     "output_type": "execute_result"
    }
   ],
   "source": [
    "a.intersection(b)"
   ]
  },
  {
   "cell_type": "code",
   "execution_count": 117,
   "id": "88ab7595",
   "metadata": {},
   "outputs": [
    {
     "data": {
      "text/plain": [
       "{1, 2, 3}"
      ]
     },
     "execution_count": 117,
     "metadata": {},
     "output_type": "execute_result"
    }
   ],
   "source": [
    "a - b"
   ]
  },
  {
   "cell_type": "code",
   "execution_count": 118,
   "id": "c6ef38e3",
   "metadata": {},
   "outputs": [
    {
     "data": {
      "text/plain": [
       "{1, 2, 3}"
      ]
     },
     "execution_count": 118,
     "metadata": {},
     "output_type": "execute_result"
    }
   ],
   "source": [
    "a.difference(b)"
   ]
  },
  {
   "cell_type": "code",
   "execution_count": 119,
   "id": "d10e6b9c",
   "metadata": {},
   "outputs": [
    {
     "data": {
      "text/plain": [
       "{6, 7, 8}"
      ]
     },
     "execution_count": 119,
     "metadata": {},
     "output_type": "execute_result"
    }
   ],
   "source": [
    "b - a"
   ]
  },
  {
   "cell_type": "code",
   "execution_count": 120,
   "id": "c5880dd5",
   "metadata": {},
   "outputs": [
    {
     "data": {
      "text/plain": [
       "{1, 2, 3, 6, 7, 8}"
      ]
     },
     "execution_count": 120,
     "metadata": {},
     "output_type": "execute_result"
    }
   ],
   "source": [
    "a ^ b"
   ]
  },
  {
   "cell_type": "code",
   "execution_count": 121,
   "id": "9eda0426",
   "metadata": {},
   "outputs": [
    {
     "data": {
      "text/plain": [
       "{1, 2, 3, 6, 7, 8}"
      ]
     },
     "execution_count": 121,
     "metadata": {},
     "output_type": "execute_result"
    }
   ],
   "source": [
    "a.symmetric_difference(b)"
   ]
  },
  {
   "cell_type": "code",
   "execution_count": 122,
   "id": "9e86bece",
   "metadata": {},
   "outputs": [
    {
     "data": {
      "text/plain": [
       "False"
      ]
     },
     "execution_count": 122,
     "metadata": {},
     "output_type": "execute_result"
    }
   ],
   "source": [
    "a.isdisjoint(b)"
   ]
  },
  {
   "cell_type": "code",
   "execution_count": 123,
   "id": "dd229d5e",
   "metadata": {},
   "outputs": [
    {
     "data": {
      "text/plain": [
       "False"
      ]
     },
     "execution_count": 123,
     "metadata": {},
     "output_type": "execute_result"
    }
   ],
   "source": [
    "a.issubset(b)"
   ]
  },
  {
   "cell_type": "code",
   "execution_count": 124,
   "id": "77f92c95",
   "metadata": {},
   "outputs": [
    {
     "data": {
      "text/plain": [
       "False"
      ]
     },
     "execution_count": 124,
     "metadata": {},
     "output_type": "execute_result"
    }
   ],
   "source": [
    "a.issuperset(b)"
   ]
  },
  {
   "cell_type": "code",
   "execution_count": 125,
   "id": "266be3ec",
   "metadata": {},
   "outputs": [],
   "source": [
    "a = {1,2,3,4,5}\n",
    "b=  {4,5}"
   ]
  },
  {
   "cell_type": "code",
   "execution_count": 126,
   "id": "0be2e64f",
   "metadata": {},
   "outputs": [
    {
     "data": {
      "text/plain": [
       "True"
      ]
     },
     "execution_count": 126,
     "metadata": {},
     "output_type": "execute_result"
    }
   ],
   "source": [
    "a.issuperset(b)"
   ]
  },
  {
   "cell_type": "code",
   "execution_count": 127,
   "id": "9b7bdfb9",
   "metadata": {},
   "outputs": [
    {
     "data": {
      "text/plain": [
       "True"
      ]
     },
     "execution_count": 127,
     "metadata": {},
     "output_type": "execute_result"
    }
   ],
   "source": [
    "b.issubset(a)"
   ]
  },
  {
   "cell_type": "code",
   "execution_count": 128,
   "id": "d71b490b",
   "metadata": {},
   "outputs": [
    {
     "data": {
      "text/plain": [
       "5"
      ]
     },
     "execution_count": 128,
     "metadata": {},
     "output_type": "execute_result"
    }
   ],
   "source": [
    "max(a)"
   ]
  },
  {
   "cell_type": "code",
   "execution_count": 129,
   "id": "935f7ec5",
   "metadata": {},
   "outputs": [
    {
     "data": {
      "text/plain": [
       "1"
      ]
     },
     "execution_count": 129,
     "metadata": {},
     "output_type": "execute_result"
    }
   ],
   "source": [
    "min(a)"
   ]
  },
  {
   "cell_type": "code",
   "execution_count": 130,
   "id": "86de0fc0",
   "metadata": {},
   "outputs": [
    {
     "data": {
      "text/plain": [
       "5"
      ]
     },
     "execution_count": 130,
     "metadata": {},
     "output_type": "execute_result"
    }
   ],
   "source": [
    "len(a)"
   ]
  },
  {
   "cell_type": "code",
   "execution_count": 131,
   "id": "69d11998",
   "metadata": {},
   "outputs": [
    {
     "data": {
      "text/plain": [
       "15"
      ]
     },
     "execution_count": 131,
     "metadata": {},
     "output_type": "execute_result"
    }
   ],
   "source": [
    "sum(a)"
   ]
  },
  {
   "cell_type": "code",
   "execution_count": 132,
   "id": "93bb11be",
   "metadata": {},
   "outputs": [],
   "source": [
    "#Frozen set"
   ]
  },
  {
   "cell_type": "code",
   "execution_count": 133,
   "id": "7879ac2d",
   "metadata": {},
   "outputs": [],
   "source": [
    "a1 = frozenset([1,2,3,4,5])"
   ]
  },
  {
   "cell_type": "code",
   "execution_count": 135,
   "id": "fb8533d3",
   "metadata": {},
   "outputs": [
    {
     "ename": "AttributeError",
     "evalue": "'frozenset' object has no attribute 'add'",
     "output_type": "error",
     "traceback": [
      "\u001b[1;31m---------------------------------------------------------------------------\u001b[0m",
      "\u001b[1;31mAttributeError\u001b[0m                            Traceback (most recent call last)",
      "\u001b[1;32m<ipython-input-135-b9ba3c224cbd>\u001b[0m in \u001b[0;36m<module>\u001b[1;34m\u001b[0m\n\u001b[1;32m----> 1\u001b[1;33m \u001b[0ma1\u001b[0m\u001b[1;33m.\u001b[0m\u001b[0madd\u001b[0m\u001b[1;33m(\u001b[0m\u001b[1;36m12\u001b[0m\u001b[1;33m)\u001b[0m\u001b[1;33m\u001b[0m\u001b[1;33m\u001b[0m\u001b[0m\n\u001b[0m",
      "\u001b[1;31mAttributeError\u001b[0m: 'frozenset' object has no attribute 'add'"
     ]
    }
   ],
   "source": [
    "a1.add(12)"
   ]
  },
  {
   "cell_type": "code",
   "execution_count": 136,
   "id": "622cb74e",
   "metadata": {},
   "outputs": [],
   "source": [
    "b1 = frozenset([4,5,6,7,8])"
   ]
  },
  {
   "cell_type": "code",
   "execution_count": 137,
   "id": "feae0f7d",
   "metadata": {},
   "outputs": [
    {
     "data": {
      "text/plain": [
       "frozenset({1, 2, 3})"
      ]
     },
     "execution_count": 137,
     "metadata": {},
     "output_type": "execute_result"
    }
   ],
   "source": [
    "a1 - b1"
   ]
  },
  {
   "cell_type": "code",
   "execution_count": null,
   "id": "fef17622",
   "metadata": {},
   "outputs": [],
   "source": []
  }
 ],
 "metadata": {
  "kernelspec": {
   "display_name": "Python 3",
   "language": "python",
   "name": "python3"
  },
  "language_info": {
   "codemirror_mode": {
    "name": "ipython",
    "version": 3
   },
   "file_extension": ".py",
   "mimetype": "text/x-python",
   "name": "python",
   "nbconvert_exporter": "python",
   "pygments_lexer": "ipython3",
   "version": "3.8.8"
  }
 },
 "nbformat": 4,
 "nbformat_minor": 5
}
