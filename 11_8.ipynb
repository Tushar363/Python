{
 "cells": [
  {
   "cell_type": "code",
   "execution_count": 1,
   "id": "9f40b67f",
   "metadata": {},
   "outputs": [],
   "source": [
    "l1 = [2,12,34,56,75,78,23]"
   ]
  },
  {
   "cell_type": "code",
   "execution_count": 3,
   "id": "4370277f",
   "metadata": {},
   "outputs": [
    {
     "name": "stdout",
     "output_type": "stream",
     "text": [
      "The square of 2 is 4\n",
      "The square of 12 is 144\n",
      "The square of 34 is 1156\n",
      "The square of 56 is 3136\n",
      "The square of 75 is 5625\n",
      "The square of 78 is 6084\n",
      "The square of 23 is 529\n"
     ]
    }
   ],
   "source": [
    "for i in l1:\n",
    "    print(f\"The square of {i} is {i**2}\")"
   ]
  },
  {
   "cell_type": "code",
   "execution_count": 4,
   "id": "6ec99c64",
   "metadata": {},
   "outputs": [],
   "source": [
    "# Write a Python program that accepts a string and calculate \n",
    "# the number of digits and letters.\n",
    "# Sample Data : Python 3.9\n",
    "# Expected Output :\n",
    "# Letters 6\n",
    "# Digits 2\n"
   ]
  },
  {
   "cell_type": "code",
   "execution_count": 5,
   "id": "9996c3b9",
   "metadata": {},
   "outputs": [
    {
     "name": "stdout",
     "output_type": "stream",
     "text": [
      "[4, 144, 1156, 3136, 5625, 6084, 529]\n"
     ]
    }
   ],
   "source": [
    "list_1 = []\n",
    "\n",
    "for i in l1:\n",
    "    \n",
    "    list_1.append(i**2)\n",
    "    \n",
    "print(list_1)"
   ]
  },
  {
   "cell_type": "code",
   "execution_count": 6,
   "id": "7d5da920",
   "metadata": {},
   "outputs": [],
   "source": [
    "l1.extend(list_1)"
   ]
  },
  {
   "cell_type": "code",
   "execution_count": 7,
   "id": "7d49e1a8",
   "metadata": {},
   "outputs": [
    {
     "data": {
      "text/plain": [
       "[2, 12, 34, 56, 75, 78, 23, 4, 144, 1156, 3136, 5625, 6084, 529]"
      ]
     },
     "execution_count": 7,
     "metadata": {},
     "output_type": "execute_result"
    }
   ],
   "source": [
    "l1"
   ]
  },
  {
   "cell_type": "code",
   "execution_count": 10,
   "id": "18524242",
   "metadata": {},
   "outputs": [
    {
     "name": "stdout",
     "output_type": "stream",
     "text": [
      "Total letters: 6\n",
      "Total digits: 3\n"
     ]
    }
   ],
   "source": [
    "str1 = \"Python 3.10\"\n",
    "\n",
    "letter = 0\n",
    "digit = 0\n",
    "\n",
    "for i in str1:\n",
    "    if i.isalpha():\n",
    "        letter = letter + 1\n",
    "    elif i.isdigit():\n",
    "        digit = digit + 1\n",
    "        \n",
    "print(\"Total letters:\",letter)\n",
    "print(\"Total digits:\", digit)\n",
    "        "
   ]
  },
  {
   "cell_type": "code",
   "execution_count": null,
   "id": "7209bb43",
   "metadata": {},
   "outputs": [],
   "source": [
    "Write a program to accept percentage from the user and \n",
    "display the grade according to the following criteria:\n",
    "\n",
    " Marks Grade\n",
    " > 90 A\n",
    " > 80 and <= 90 B\n",
    " >= 60 and <= 80 C\n",
    " below 60 D"
   ]
  }
 ],
 "metadata": {
  "kernelspec": {
   "display_name": "Python 3",
   "language": "python",
   "name": "python3"
  },
  "language_info": {
   "codemirror_mode": {
    "name": "ipython",
    "version": 3
   },
   "file_extension": ".py",
   "mimetype": "text/x-python",
   "name": "python",
   "nbconvert_exporter": "python",
   "pygments_lexer": "ipython3",
   "version": "3.8.8"
  }
 },
 "nbformat": 4,
 "nbformat_minor": 5
}
