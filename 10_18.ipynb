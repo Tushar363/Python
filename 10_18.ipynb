{
 "cells": [
  {
   "cell_type": "code",
   "execution_count": 1,
   "id": "f30eae01",
   "metadata": {},
   "outputs": [],
   "source": [
    "str1 = \"Welcome to GrowingSeed Technologies\""
   ]
  },
  {
   "cell_type": "code",
   "execution_count": 2,
   "id": "9d33c16e",
   "metadata": {},
   "outputs": [
    {
     "name": "stdout",
     "output_type": "stream",
     "text": [
      "Welcome to GrowingSeed Technologies\n"
     ]
    }
   ],
   "source": [
    "print(str1)"
   ]
  },
  {
   "cell_type": "code",
   "execution_count": 3,
   "id": "122a7d29",
   "metadata": {},
   "outputs": [],
   "source": [
    "str2 = \"Hello Python\""
   ]
  },
  {
   "cell_type": "code",
   "execution_count": 10,
   "id": "ffd168a3",
   "metadata": {},
   "outputs": [],
   "source": [
    "#Indexing -> position\n",
    "# Positive\n",
    "# Negative"
   ]
  },
  {
   "cell_type": "code",
   "execution_count": 7,
   "id": "5a5b6222",
   "metadata": {},
   "outputs": [
    {
     "data": {
      "text/plain": [
       "str"
      ]
     },
     "execution_count": 7,
     "metadata": {},
     "output_type": "execute_result"
    }
   ],
   "source": [
    "type(\" \")"
   ]
  },
  {
   "cell_type": "code",
   "execution_count": 8,
   "id": "f3ba4a71",
   "metadata": {},
   "outputs": [
    {
     "data": {
      "text/plain": [
       "'P'"
      ]
     },
     "execution_count": 8,
     "metadata": {},
     "output_type": "execute_result"
    }
   ],
   "source": [
    "str2[6]"
   ]
  },
  {
   "cell_type": "code",
   "execution_count": 9,
   "id": "eabe70e7",
   "metadata": {},
   "outputs": [
    {
     "data": {
      "text/plain": [
       "'n'"
      ]
     },
     "execution_count": 9,
     "metadata": {},
     "output_type": "execute_result"
    }
   ],
   "source": [
    "str2[11]"
   ]
  },
  {
   "cell_type": "code",
   "execution_count": 11,
   "id": "f4b49a4f",
   "metadata": {},
   "outputs": [
    {
     "data": {
      "text/plain": [
       "'P'"
      ]
     },
     "execution_count": 11,
     "metadata": {},
     "output_type": "execute_result"
    }
   ],
   "source": [
    "str2[-6]"
   ]
  },
  {
   "cell_type": "code",
   "execution_count": 12,
   "id": "bb809e08",
   "metadata": {},
   "outputs": [],
   "source": [
    "# Slicing"
   ]
  },
  {
   "cell_type": "code",
   "execution_count": 13,
   "id": "db0b5014",
   "metadata": {},
   "outputs": [],
   "source": [
    "# string_object[start:stop:step_size]"
   ]
  },
  {
   "cell_type": "code",
   "execution_count": 15,
   "id": "ba1f3e75",
   "metadata": {},
   "outputs": [
    {
     "data": {
      "text/plain": [
       "'Hello'"
      ]
     },
     "execution_count": 15,
     "metadata": {},
     "output_type": "execute_result"
    }
   ],
   "source": [
    "str2[0:5]"
   ]
  },
  {
   "cell_type": "code",
   "execution_count": 17,
   "id": "2572f826",
   "metadata": {},
   "outputs": [
    {
     "data": {
      "text/plain": [
       "'Hlo'"
      ]
     },
     "execution_count": 17,
     "metadata": {},
     "output_type": "execute_result"
    }
   ],
   "source": [
    "str2[0:5:2]"
   ]
  },
  {
   "cell_type": "code",
   "execution_count": 21,
   "id": "92962c3a",
   "metadata": {},
   "outputs": [
    {
     "data": {
      "text/plain": [
       "'Python'"
      ]
     },
     "execution_count": 21,
     "metadata": {},
     "output_type": "execute_result"
    }
   ],
   "source": [
    "str2[6:12]"
   ]
  },
  {
   "cell_type": "code",
   "execution_count": 22,
   "id": "246d1648",
   "metadata": {},
   "outputs": [
    {
     "data": {
      "text/plain": [
       "'Hello'"
      ]
     },
     "execution_count": 22,
     "metadata": {},
     "output_type": "execute_result"
    }
   ],
   "source": [
    "str2[:5]"
   ]
  },
  {
   "cell_type": "code",
   "execution_count": 23,
   "id": "7773fcc3",
   "metadata": {},
   "outputs": [
    {
     "data": {
      "text/plain": [
       "'Python'"
      ]
     },
     "execution_count": 23,
     "metadata": {},
     "output_type": "execute_result"
    }
   ],
   "source": [
    "str2[6:]"
   ]
  },
  {
   "cell_type": "code",
   "execution_count": 24,
   "id": "6c87e138",
   "metadata": {},
   "outputs": [
    {
     "data": {
      "text/plain": [
       "'Hello'"
      ]
     },
     "execution_count": 24,
     "metadata": {},
     "output_type": "execute_result"
    }
   ],
   "source": [
    "str2[-12:5]"
   ]
  },
  {
   "cell_type": "code",
   "execution_count": 29,
   "id": "f2cf89a5",
   "metadata": {},
   "outputs": [
    {
     "data": {
      "text/plain": [
       "'olleH'"
      ]
     },
     "execution_count": 29,
     "metadata": {},
     "output_type": "execute_result"
    }
   ],
   "source": [
    "str2[4:-13:-1]"
   ]
  },
  {
   "cell_type": "code",
   "execution_count": 30,
   "id": "765d14be",
   "metadata": {},
   "outputs": [
    {
     "data": {
      "text/plain": [
       "'olleH'"
      ]
     },
     "execution_count": 30,
     "metadata": {},
     "output_type": "execute_result"
    }
   ],
   "source": [
    "str2[-8:-13:-1]"
   ]
  },
  {
   "cell_type": "code",
   "execution_count": 31,
   "id": "ab16d41f",
   "metadata": {},
   "outputs": [
    {
     "data": {
      "text/plain": [
       "'nohtyP'"
      ]
     },
     "execution_count": 31,
     "metadata": {},
     "output_type": "execute_result"
    }
   ],
   "source": [
    "str2[-1:-7:-1]"
   ]
  },
  {
   "cell_type": "code",
   "execution_count": 32,
   "id": "05abda78",
   "metadata": {},
   "outputs": [
    {
     "data": {
      "text/plain": [
       "'nohtyP olleH'"
      ]
     },
     "execution_count": 32,
     "metadata": {},
     "output_type": "execute_result"
    }
   ],
   "source": [
    "str2[-1:-13:-1]"
   ]
  },
  {
   "cell_type": "code",
   "execution_count": 33,
   "id": "c55e00d5",
   "metadata": {},
   "outputs": [
    {
     "data": {
      "text/plain": [
       "'nohtyP olleH'"
      ]
     },
     "execution_count": 33,
     "metadata": {},
     "output_type": "execute_result"
    }
   ],
   "source": [
    "str2[::-1]"
   ]
  },
  {
   "cell_type": "code",
   "execution_count": 34,
   "id": "160b527f",
   "metadata": {},
   "outputs": [],
   "source": [
    "#Python string operations"
   ]
  },
  {
   "cell_type": "code",
   "execution_count": 35,
   "id": "bd6e96f4",
   "metadata": {},
   "outputs": [],
   "source": [
    "# Concatenation of Two or more strings"
   ]
  },
  {
   "cell_type": "code",
   "execution_count": 36,
   "id": "98c33228",
   "metadata": {},
   "outputs": [],
   "source": [
    "x = 'Hello'\n",
    "y = 'Python'"
   ]
  },
  {
   "cell_type": "code",
   "execution_count": 42,
   "id": "f540e772",
   "metadata": {},
   "outputs": [],
   "source": [
    "z = x +\" \"+ y"
   ]
  },
  {
   "cell_type": "code",
   "execution_count": 38,
   "id": "0d2aff4a",
   "metadata": {},
   "outputs": [
    {
     "data": {
      "text/plain": [
       "'Hello'"
      ]
     },
     "execution_count": 38,
     "metadata": {},
     "output_type": "execute_result"
    }
   ],
   "source": [
    "x"
   ]
  },
  {
   "cell_type": "code",
   "execution_count": 39,
   "id": "834d127d",
   "metadata": {},
   "outputs": [
    {
     "data": {
      "text/plain": [
       "'Python'"
      ]
     },
     "execution_count": 39,
     "metadata": {},
     "output_type": "execute_result"
    }
   ],
   "source": [
    "y"
   ]
  },
  {
   "cell_type": "code",
   "execution_count": 43,
   "id": "222dfadb",
   "metadata": {},
   "outputs": [
    {
     "data": {
      "text/plain": [
       "'Hello Python'"
      ]
     },
     "execution_count": 43,
     "metadata": {},
     "output_type": "execute_result"
    }
   ],
   "source": [
    "z"
   ]
  },
  {
   "cell_type": "code",
   "execution_count": 44,
   "id": "56442f6b",
   "metadata": {},
   "outputs": [],
   "source": [
    "# *"
   ]
  },
  {
   "cell_type": "code",
   "execution_count": 49,
   "id": "1cca634d",
   "metadata": {},
   "outputs": [],
   "source": [
    "x = x*5"
   ]
  },
  {
   "cell_type": "code",
   "execution_count": 50,
   "id": "0797a03d",
   "metadata": {},
   "outputs": [
    {
     "data": {
      "text/plain": [
       "'HelloHelloHelloHelloHello'"
      ]
     },
     "execution_count": 50,
     "metadata": {},
     "output_type": "execute_result"
    }
   ],
   "source": [
    "x"
   ]
  },
  {
   "cell_type": "code",
   "execution_count": 47,
   "id": "adda979e",
   "metadata": {},
   "outputs": [],
   "source": [
    "y  = 9"
   ]
  },
  {
   "cell_type": "code",
   "execution_count": 48,
   "id": "738002c0",
   "metadata": {},
   "outputs": [],
   "source": [
    "y = 50"
   ]
  },
  {
   "cell_type": "code",
   "execution_count": 51,
   "id": "54b0a9dd",
   "metadata": {},
   "outputs": [
    {
     "data": {
      "text/plain": [
       "'HelloHelloHelloHelloHello'"
      ]
     },
     "execution_count": 51,
     "metadata": {},
     "output_type": "execute_result"
    }
   ],
   "source": [
    "x"
   ]
  },
  {
   "cell_type": "code",
   "execution_count": 52,
   "id": "48a1b7e1",
   "metadata": {},
   "outputs": [],
   "source": [
    "# String formatting\n",
    "\n",
    "#format()\n",
    "\n",
    "#1. Default order\n",
    "\n",
    "#2. Using positional argument\n",
    "\n",
    "#3. Using keyword argument"
   ]
  },
  {
   "cell_type": "code",
   "execution_count": 53,
   "id": "eeaccd50",
   "metadata": {},
   "outputs": [],
   "source": [
    "str1 = \"I am {} and I am {} {}\""
   ]
  },
  {
   "cell_type": "code",
   "execution_count": 55,
   "id": "e9596b05",
   "metadata": {},
   "outputs": [
    {
     "name": "stdout",
     "output_type": "stream",
     "text": [
      "{\n"
     ]
    }
   ],
   "source": [
    "print(str1)"
   ]
  },
  {
   "cell_type": "code",
   "execution_count": 58,
   "id": "b2a3d141",
   "metadata": {},
   "outputs": [],
   "source": [
    "var = \"XYZ\"\n",
    "var1 = \"learning\"\n",
    "var2 = \"Python\""
   ]
  },
  {
   "cell_type": "code",
   "execution_count": 67,
   "id": "4cd32eaf",
   "metadata": {},
   "outputs": [
    {
     "name": "stdout",
     "output_type": "stream",
     "text": [
      "I am learning and I am XYZ Python\n"
     ]
    }
   ],
   "source": [
    "print(\"I am {} and I am {} {}\".format(var1,var,var2))"
   ]
  },
  {
   "cell_type": "code",
   "execution_count": null,
   "id": "78c5a769",
   "metadata": {},
   "outputs": [],
   "source": []
  }
 ],
 "metadata": {
  "kernelspec": {
   "display_name": "Python 3",
   "language": "python",
   "name": "python3"
  },
  "language_info": {
   "codemirror_mode": {
    "name": "ipython",
    "version": 3
   },
   "file_extension": ".py",
   "mimetype": "text/x-python",
   "name": "python",
   "nbconvert_exporter": "python",
   "pygments_lexer": "ipython3",
   "version": "3.8.8"
  }
 },
 "nbformat": 4,
 "nbformat_minor": 5
}
