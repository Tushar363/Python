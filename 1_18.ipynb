{
 "cells": [
  {
   "cell_type": "code",
   "execution_count": 1,
   "id": "4534261b",
   "metadata": {},
   "outputs": [],
   "source": [
    "import tkinter as tk"
   ]
  },
  {
   "cell_type": "code",
   "execution_count": 3,
   "id": "7f37d7b1",
   "metadata": {},
   "outputs": [],
   "source": [
    "obj = tk.Tk()\n",
    "\n",
    "\n",
    "obj.mainloop()"
   ]
  },
  {
   "cell_type": "code",
   "execution_count": 4,
   "id": "9877889e",
   "metadata": {},
   "outputs": [],
   "source": [
    "from tkinter import *"
   ]
  },
  {
   "cell_type": "code",
   "execution_count": 30,
   "id": "29097b40",
   "metadata": {},
   "outputs": [],
   "source": [
    "obj = Tk()\n",
    "\n",
    "label = Label(text='Hey! I am learning Tkinter.',fg='blue',bg='yellow', font='verdana 14 bold',width=25,height=12)\n",
    "label.pack()\n",
    "\n",
    "button = Button(text='Click me!',width=25,height=5,bg='green',fg='white',font=18)\n",
    "button.pack()\n",
    "\n",
    "entry = Entry(fg='yellow',bg='blue',width=50)\n",
    "entry.pack()\n",
    "obj.mainloop()"
   ]
  },
  {
   "cell_type": "code",
   "execution_count": null,
   "id": "39bdeb1b",
   "metadata": {},
   "outputs": [],
   "source": []
  },
  {
   "cell_type": "code",
   "execution_count": null,
   "id": "426b4144",
   "metadata": {},
   "outputs": [],
   "source": [
    "tkdocs.com"
   ]
  },
  {
   "cell_type": "code",
   "execution_count": null,
   "id": "c49dfd2d",
   "metadata": {},
   "outputs": [],
   "source": [
    "0"
   ]
  }
 ],
 "metadata": {
  "kernelspec": {
   "display_name": "Python 3 (ipykernel)",
   "language": "python",
   "name": "python3"
  },
  "language_info": {
   "codemirror_mode": {
    "name": "ipython",
    "version": 3
   },
   "file_extension": ".py",
   "mimetype": "text/x-python",
   "name": "python",
   "nbconvert_exporter": "python",
   "pygments_lexer": "ipython3",
   "version": "3.9.13"
  }
 },
 "nbformat": 4,
 "nbformat_minor": 5
}
