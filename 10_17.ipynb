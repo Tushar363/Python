{
 "cells": [
  {
   "cell_type": "code",
   "execution_count": 1,
   "id": "6f26aeb5",
   "metadata": {},
   "outputs": [],
   "source": [
    "#Data types"
   ]
  },
  {
   "cell_type": "code",
   "execution_count": 2,
   "id": "d6213653",
   "metadata": {},
   "outputs": [],
   "source": [
    "#Numbers\n",
    "\n",
    "#1. Integer\n",
    "#2. Float\n",
    "#3. Complex"
   ]
  },
  {
   "cell_type": "code",
   "execution_count": 3,
   "id": "f09c410a",
   "metadata": {},
   "outputs": [
    {
     "data": {
      "text/plain": [
       "123"
      ]
     },
     "execution_count": 3,
     "metadata": {},
     "output_type": "execute_result"
    }
   ],
   "source": [
    "123"
   ]
  },
  {
   "cell_type": "code",
   "execution_count": 4,
   "id": "f291cecf",
   "metadata": {},
   "outputs": [
    {
     "data": {
      "text/plain": [
       "int"
      ]
     },
     "execution_count": 4,
     "metadata": {},
     "output_type": "execute_result"
    }
   ],
   "source": [
    "type(123)"
   ]
  },
  {
   "cell_type": "code",
   "execution_count": 5,
   "id": "cfb47c99",
   "metadata": {},
   "outputs": [
    {
     "data": {
      "text/plain": [
       "12.5"
      ]
     },
     "execution_count": 5,
     "metadata": {},
     "output_type": "execute_result"
    }
   ],
   "source": [
    "12.50"
   ]
  },
  {
   "cell_type": "code",
   "execution_count": 6,
   "id": "02b79e31",
   "metadata": {},
   "outputs": [
    {
     "data": {
      "text/plain": [
       "float"
      ]
     },
     "execution_count": 6,
     "metadata": {},
     "output_type": "execute_result"
    }
   ],
   "source": [
    "type(12.50)"
   ]
  },
  {
   "cell_type": "code",
   "execution_count": 7,
   "id": "7c854f4d",
   "metadata": {},
   "outputs": [
    {
     "data": {
      "text/plain": [
       "(3+5j)"
      ]
     },
     "execution_count": 7,
     "metadata": {},
     "output_type": "execute_result"
    }
   ],
   "source": [
    "3 + 5j"
   ]
  },
  {
   "cell_type": "code",
   "execution_count": 8,
   "id": "18c44cd6",
   "metadata": {},
   "outputs": [
    {
     "data": {
      "text/plain": [
       "complex"
      ]
     },
     "execution_count": 8,
     "metadata": {},
     "output_type": "execute_result"
    }
   ],
   "source": [
    "type(3+5j)"
   ]
  },
  {
   "cell_type": "code",
   "execution_count": 9,
   "id": "afc49a67",
   "metadata": {},
   "outputs": [],
   "source": [
    "# variables -> is a named location used to store data in the memory(RAM)\n",
    "\n",
    "# = -> assignment operator."
   ]
  },
  {
   "cell_type": "code",
   "execution_count": 10,
   "id": "9d92a84c",
   "metadata": {},
   "outputs": [],
   "source": [
    "var = 10"
   ]
  },
  {
   "cell_type": "code",
   "execution_count": 11,
   "id": "7e1895f9",
   "metadata": {},
   "outputs": [
    {
     "data": {
      "text/plain": [
       "10"
      ]
     },
     "execution_count": 11,
     "metadata": {},
     "output_type": "execute_result"
    }
   ],
   "source": [
    "var"
   ]
  },
  {
   "cell_type": "code",
   "execution_count": 12,
   "id": "2b305ddc",
   "metadata": {},
   "outputs": [
    {
     "data": {
      "text/plain": [
       "10"
      ]
     },
     "execution_count": 12,
     "metadata": {},
     "output_type": "execute_result"
    }
   ],
   "source": [
    "var"
   ]
  },
  {
   "cell_type": "code",
   "execution_count": 13,
   "id": "0afb1c7c",
   "metadata": {},
   "outputs": [],
   "source": [
    "var = 100"
   ]
  },
  {
   "cell_type": "code",
   "execution_count": 14,
   "id": "027fc447",
   "metadata": {},
   "outputs": [
    {
     "data": {
      "text/plain": [
       "100"
      ]
     },
     "execution_count": 14,
     "metadata": {},
     "output_type": "execute_result"
    }
   ],
   "source": [
    "var"
   ]
  },
  {
   "cell_type": "code",
   "execution_count": 15,
   "id": "d2e88bcc",
   "metadata": {},
   "outputs": [],
   "source": [
    "v1 = 90"
   ]
  },
  {
   "cell_type": "code",
   "execution_count": 20,
   "id": "f79dbcdb",
   "metadata": {},
   "outputs": [],
   "source": [
    "v2_ = 10"
   ]
  },
  {
   "cell_type": "code",
   "execution_count": 30,
   "id": "62bc7f8b",
   "metadata": {},
   "outputs": [],
   "source": [
    "#Identifier -> is a name given to entities like variables, classes, functions etc\n",
    "\n",
    "#1. Identifier can contain only letters(lower & upper), digits and underscore.\n",
    "#2. Identifier can not start with digit.\n",
    "#3. Reserve words(keywords) can not be used as an identifier.\n",
    "#4. Identifier must be of single word.\n",
    "\n",
    "#5. Identifier can be of any lenght."
   ]
  },
  {
   "cell_type": "code",
   "execution_count": 18,
   "id": "cd1ce40d",
   "metadata": {},
   "outputs": [
    {
     "data": {
      "text/plain": [
       "90"
      ]
     },
     "execution_count": 18,
     "metadata": {},
     "output_type": "execute_result"
    }
   ],
   "source": [
    "v1"
   ]
  },
  {
   "cell_type": "code",
   "execution_count": 19,
   "id": "866f3837",
   "metadata": {},
   "outputs": [
    {
     "data": {
      "text/plain": [
       "100"
      ]
     },
     "execution_count": 19,
     "metadata": {},
     "output_type": "execute_result"
    }
   ],
   "source": [
    "var"
   ]
  },
  {
   "cell_type": "code",
   "execution_count": 23,
   "id": "900d44d4",
   "metadata": {},
   "outputs": [],
   "source": [
    "_1var = 1000"
   ]
  },
  {
   "cell_type": "code",
   "execution_count": 24,
   "id": "a5ca8974",
   "metadata": {},
   "outputs": [
    {
     "data": {
      "text/plain": [
       "1000"
      ]
     },
     "execution_count": 24,
     "metadata": {},
     "output_type": "execute_result"
    }
   ],
   "source": [
    "_1var"
   ]
  },
  {
   "cell_type": "code",
   "execution_count": 25,
   "id": "2e693746",
   "metadata": {},
   "outputs": [
    {
     "ename": "SyntaxError",
     "evalue": "invalid syntax (<ipython-input-25-ec20baea28c9>, line 1)",
     "output_type": "error",
     "traceback": [
      "\u001b[1;36m  File \u001b[1;32m\"<ipython-input-25-ec20baea28c9>\"\u001b[1;36m, line \u001b[1;32m1\u001b[0m\n\u001b[1;33m    del = 90\u001b[0m\n\u001b[1;37m        ^\u001b[0m\n\u001b[1;31mSyntaxError\u001b[0m\u001b[1;31m:\u001b[0m invalid syntax\n"
     ]
    }
   ],
   "source": [
    "del = 90"
   ]
  },
  {
   "cell_type": "code",
   "execution_count": 27,
   "id": "1988a696",
   "metadata": {},
   "outputs": [
    {
     "data": {
      "text/plain": [
       "1000"
      ]
     },
     "execution_count": 27,
     "metadata": {},
     "output_type": "execute_result"
    }
   ],
   "source": [
    "_1var"
   ]
  },
  {
   "cell_type": "code",
   "execution_count": 28,
   "id": "1bc637c7",
   "metadata": {},
   "outputs": [],
   "source": [
    "del _1var"
   ]
  },
  {
   "cell_type": "code",
   "execution_count": 29,
   "id": "e49e3b31",
   "metadata": {},
   "outputs": [
    {
     "ename": "NameError",
     "evalue": "name '_1var' is not defined",
     "output_type": "error",
     "traceback": [
      "\u001b[1;31m---------------------------------------------------------------------------\u001b[0m",
      "\u001b[1;31mNameError\u001b[0m                                 Traceback (most recent call last)",
      "\u001b[1;32m<ipython-input-29-d7cc3229fa0c>\u001b[0m in \u001b[0;36m<module>\u001b[1;34m\u001b[0m\n\u001b[1;32m----> 1\u001b[1;33m \u001b[0m_1var\u001b[0m\u001b[1;33m\u001b[0m\u001b[1;33m\u001b[0m\u001b[0m\n\u001b[0m",
      "\u001b[1;31mNameError\u001b[0m: name '_1var' is not defined"
     ]
    }
   ],
   "source": [
    "_1var"
   ]
  },
  {
   "cell_type": "code",
   "execution_count": 36,
   "id": "d4fe68ad",
   "metadata": {},
   "outputs": [],
   "source": [
    "hello_pythonfgfjklghfjkhgjkfhgfghfjkgf = 120"
   ]
  },
  {
   "cell_type": "code",
   "execution_count": 37,
   "id": "1343a320",
   "metadata": {},
   "outputs": [
    {
     "data": {
      "text/plain": [
       "120"
      ]
     },
     "execution_count": 37,
     "metadata": {},
     "output_type": "execute_result"
    }
   ],
   "source": [
    "hello_pythonfgfjklghfjkhgjkfhgfghfjkgf"
   ]
  },
  {
   "cell_type": "code",
   "execution_count": 38,
   "id": "623deb77",
   "metadata": {},
   "outputs": [
    {
     "data": {
      "text/plain": [
       "120"
      ]
     },
     "execution_count": 38,
     "metadata": {},
     "output_type": "execute_result"
    }
   ],
   "source": [
    "hello_pythonfgfjklghfjkhgjkfhgfghfjkgf"
   ]
  },
  {
   "cell_type": "code",
   "execution_count": 45,
   "id": "ee00c9b2",
   "metadata": {},
   "outputs": [],
   "source": [
    "v1 = 90\n",
    "v2 = 90"
   ]
  },
  {
   "cell_type": "code",
   "execution_count": 46,
   "id": "6022fc2a",
   "metadata": {},
   "outputs": [
    {
     "data": {
      "text/plain": [
       "140721355043408"
      ]
     },
     "execution_count": 46,
     "metadata": {},
     "output_type": "execute_result"
    }
   ],
   "source": [
    "id(v1)"
   ]
  },
  {
   "cell_type": "code",
   "execution_count": 47,
   "id": "acc97249",
   "metadata": {},
   "outputs": [
    {
     "data": {
      "text/plain": [
       "140721355043408"
      ]
     },
     "execution_count": 47,
     "metadata": {},
     "output_type": "execute_result"
    }
   ],
   "source": [
    "id(v2)"
   ]
  },
  {
   "cell_type": "code",
   "execution_count": 48,
   "id": "9ec87653",
   "metadata": {},
   "outputs": [],
   "source": [
    "a = 90\n",
    "A = 95"
   ]
  },
  {
   "cell_type": "code",
   "execution_count": 49,
   "id": "6b48efa6",
   "metadata": {},
   "outputs": [
    {
     "data": {
      "text/plain": [
       "90"
      ]
     },
     "execution_count": 49,
     "metadata": {},
     "output_type": "execute_result"
    }
   ],
   "source": [
    "a"
   ]
  },
  {
   "cell_type": "code",
   "execution_count": 50,
   "id": "5936d12e",
   "metadata": {},
   "outputs": [
    {
     "data": {
      "text/plain": [
       "95"
      ]
     },
     "execution_count": 50,
     "metadata": {},
     "output_type": "execute_result"
    }
   ],
   "source": [
    "A"
   ]
  },
  {
   "cell_type": "code",
   "execution_count": 51,
   "id": "4a2b9ed1",
   "metadata": {},
   "outputs": [],
   "source": [
    "a1,a2,a3 = 10,120,30"
   ]
  },
  {
   "cell_type": "code",
   "execution_count": 52,
   "id": "edc54557",
   "metadata": {},
   "outputs": [
    {
     "data": {
      "text/plain": [
       "10"
      ]
     },
     "execution_count": 52,
     "metadata": {},
     "output_type": "execute_result"
    }
   ],
   "source": [
    "a1"
   ]
  },
  {
   "cell_type": "code",
   "execution_count": 53,
   "id": "18895c1a",
   "metadata": {},
   "outputs": [
    {
     "data": {
      "text/plain": [
       "120"
      ]
     },
     "execution_count": 53,
     "metadata": {},
     "output_type": "execute_result"
    }
   ],
   "source": [
    "a2"
   ]
  },
  {
   "cell_type": "code",
   "execution_count": 54,
   "id": "13392129",
   "metadata": {},
   "outputs": [
    {
     "data": {
      "text/plain": [
       "30"
      ]
     },
     "execution_count": 54,
     "metadata": {},
     "output_type": "execute_result"
    }
   ],
   "source": [
    "a3"
   ]
  },
  {
   "cell_type": "code",
   "execution_count": 55,
   "id": "1446a7ef",
   "metadata": {},
   "outputs": [],
   "source": [
    "a4 = A5 = a6 = 12"
   ]
  },
  {
   "cell_type": "code",
   "execution_count": 56,
   "id": "07eb4992",
   "metadata": {},
   "outputs": [
    {
     "data": {
      "text/plain": [
       "12"
      ]
     },
     "execution_count": 56,
     "metadata": {},
     "output_type": "execute_result"
    }
   ],
   "source": [
    "a4"
   ]
  },
  {
   "cell_type": "code",
   "execution_count": 57,
   "id": "890b6a57",
   "metadata": {},
   "outputs": [
    {
     "data": {
      "text/plain": [
       "12"
      ]
     },
     "execution_count": 57,
     "metadata": {},
     "output_type": "execute_result"
    }
   ],
   "source": [
    "a5"
   ]
  },
  {
   "cell_type": "code",
   "execution_count": 58,
   "id": "20d497ec",
   "metadata": {},
   "outputs": [
    {
     "data": {
      "text/plain": [
       "12"
      ]
     },
     "execution_count": 58,
     "metadata": {},
     "output_type": "execute_result"
    }
   ],
   "source": [
    "a6"
   ]
  },
  {
   "cell_type": "code",
   "execution_count": 60,
   "id": "bfc833bb",
   "metadata": {},
   "outputs": [],
   "source": [
    "a1 = 10\n",
    "a3 = 90"
   ]
  },
  {
   "cell_type": "code",
   "execution_count": 61,
   "id": "d5452cdb",
   "metadata": {},
   "outputs": [],
   "source": [
    "A5 = 90\n",
    "a5 =12"
   ]
  },
  {
   "cell_type": "code",
   "execution_count": 62,
   "id": "f6d1016e",
   "metadata": {},
   "outputs": [
    {
     "data": {
      "text/plain": [
       "90"
      ]
     },
     "execution_count": 62,
     "metadata": {},
     "output_type": "execute_result"
    }
   ],
   "source": [
    "A5"
   ]
  },
  {
   "cell_type": "code",
   "execution_count": 63,
   "id": "8883d8ea",
   "metadata": {},
   "outputs": [
    {
     "data": {
      "text/plain": [
       "12"
      ]
     },
     "execution_count": 63,
     "metadata": {},
     "output_type": "execute_result"
    }
   ],
   "source": [
    "a5"
   ]
  },
  {
   "cell_type": "code",
   "execution_count": 64,
   "id": "d4580096",
   "metadata": {},
   "outputs": [],
   "source": [
    "#string -> sequence of characters"
   ]
  },
  {
   "cell_type": "code",
   "execution_count": 66,
   "id": "ba78e44d",
   "metadata": {},
   "outputs": [],
   "source": [
    "var = 'Ravish'"
   ]
  },
  {
   "cell_type": "code",
   "execution_count": 67,
   "id": "286a1c07",
   "metadata": {},
   "outputs": [
    {
     "data": {
      "text/plain": [
       "'Ravish'"
      ]
     },
     "execution_count": 67,
     "metadata": {},
     "output_type": "execute_result"
    }
   ],
   "source": [
    "var"
   ]
  },
  {
   "cell_type": "code",
   "execution_count": 68,
   "id": "da38f0f9",
   "metadata": {},
   "outputs": [],
   "source": [
    "# ''\n",
    "# \"\"\n",
    "# \"\"\"\"\"\""
   ]
  },
  {
   "cell_type": "code",
   "execution_count": 69,
   "id": "4aee2681",
   "metadata": {},
   "outputs": [
    {
     "data": {
      "text/plain": [
       "'Ravish'"
      ]
     },
     "execution_count": 69,
     "metadata": {},
     "output_type": "execute_result"
    }
   ],
   "source": [
    "\"Ravish\""
   ]
  },
  {
   "cell_type": "code",
   "execution_count": 70,
   "id": "d2df93cf",
   "metadata": {},
   "outputs": [
    {
     "data": {
      "text/plain": [
       "'Ravish'"
      ]
     },
     "execution_count": 70,
     "metadata": {},
     "output_type": "execute_result"
    }
   ],
   "source": [
    "\"\"\"Ravish\"\"\""
   ]
  },
  {
   "cell_type": "code",
   "execution_count": 71,
   "id": "95d43887",
   "metadata": {},
   "outputs": [
    {
     "data": {
      "text/plain": [
       "str"
      ]
     },
     "execution_count": 71,
     "metadata": {},
     "output_type": "execute_result"
    }
   ],
   "source": [
    "type(var)"
   ]
  },
  {
   "cell_type": "code",
   "execution_count": 72,
   "id": "463af5f9",
   "metadata": {},
   "outputs": [],
   "source": [
    "v1 = \"Ravish\""
   ]
  },
  {
   "cell_type": "code",
   "execution_count": 73,
   "id": "9c54bf7d",
   "metadata": {},
   "outputs": [
    {
     "data": {
      "text/plain": [
       "str"
      ]
     },
     "execution_count": 73,
     "metadata": {},
     "output_type": "execute_result"
    }
   ],
   "source": [
    "type(v1)"
   ]
  },
  {
   "cell_type": "code",
   "execution_count": 74,
   "id": "277922e4",
   "metadata": {},
   "outputs": [],
   "source": [
    "v3 = \"\"\"Ravish\"\"\""
   ]
  },
  {
   "cell_type": "code",
   "execution_count": 75,
   "id": "9689650b",
   "metadata": {},
   "outputs": [
    {
     "data": {
      "text/plain": [
       "str"
      ]
     },
     "execution_count": 75,
     "metadata": {},
     "output_type": "execute_result"
    }
   ],
   "source": [
    "type(v3)"
   ]
  },
  {
   "cell_type": "code",
   "execution_count": 76,
   "id": "b4136c1a",
   "metadata": {},
   "outputs": [
    {
     "data": {
      "text/plain": [
       "'1234'"
      ]
     },
     "execution_count": 76,
     "metadata": {},
     "output_type": "execute_result"
    }
   ],
   "source": [
    "\"1234\""
   ]
  },
  {
   "cell_type": "code",
   "execution_count": 77,
   "id": "06d3e441",
   "metadata": {},
   "outputs": [
    {
     "data": {
      "text/plain": [
       "str"
      ]
     },
     "execution_count": 77,
     "metadata": {},
     "output_type": "execute_result"
    }
   ],
   "source": [
    "type(\"1234\")"
   ]
  },
  {
   "cell_type": "code",
   "execution_count": 78,
   "id": "39184e84",
   "metadata": {},
   "outputs": [
    {
     "data": {
      "text/plain": [
       "'6767%^%^HHSGH'"
      ]
     },
     "execution_count": 78,
     "metadata": {},
     "output_type": "execute_result"
    }
   ],
   "source": [
    "'6767%^%^HHSGH'"
   ]
  },
  {
   "cell_type": "code",
   "execution_count": 82,
   "id": "28474e83",
   "metadata": {},
   "outputs": [],
   "source": [
    "str1 = 'I\\'m learning python'"
   ]
  },
  {
   "cell_type": "code",
   "execution_count": 83,
   "id": "cdcaf495",
   "metadata": {},
   "outputs": [
    {
     "name": "stdout",
     "output_type": "stream",
     "text": [
      "I'm learning python\n"
     ]
    }
   ],
   "source": [
    "print(str1)"
   ]
  },
  {
   "cell_type": "code",
   "execution_count": 85,
   "id": "f783b556",
   "metadata": {},
   "outputs": [],
   "source": [
    "str2 = \"I'm learning \\\"python\\\".\""
   ]
  },
  {
   "cell_type": "code",
   "execution_count": 86,
   "id": "806df813",
   "metadata": {},
   "outputs": [
    {
     "name": "stdout",
     "output_type": "stream",
     "text": [
      "I'm learning \"python\".\n"
     ]
    }
   ],
   "source": [
    "print(str2)"
   ]
  },
  {
   "cell_type": "code",
   "execution_count": 90,
   "id": "48a5f378",
   "metadata": {},
   "outputs": [],
   "source": [
    "str3 = \"\"\"I am learning python \n",
    "from GrowingSeed Technologies\"\"\""
   ]
  },
  {
   "cell_type": "code",
   "execution_count": 91,
   "id": "c6c3b37b",
   "metadata": {},
   "outputs": [
    {
     "name": "stdout",
     "output_type": "stream",
     "text": [
      "I am learning python \n",
      "from GrowingSeed Technologies\n"
     ]
    }
   ],
   "source": [
    "print(str3)"
   ]
  },
  {
   "cell_type": "code",
   "execution_count": null,
   "id": "6dc17fd6",
   "metadata": {},
   "outputs": [],
   "source": []
  }
 ],
 "metadata": {
  "kernelspec": {
   "display_name": "Python 3",
   "language": "python",
   "name": "python3"
  },
  "language_info": {
   "codemirror_mode": {
    "name": "ipython",
    "version": 3
   },
   "file_extension": ".py",
   "mimetype": "text/x-python",
   "name": "python",
   "nbconvert_exporter": "python",
   "pygments_lexer": "ipython3",
   "version": "3.8.8"
  }
 },
 "nbformat": 4,
 "nbformat_minor": 5
}
