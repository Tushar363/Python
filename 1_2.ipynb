{
 "cells": [
  {
   "cell_type": "code",
   "execution_count": 1,
   "id": "7931f9b1",
   "metadata": {},
   "outputs": [],
   "source": [
    "l1 = [2,4,5,63,4,5,6]"
   ]
  },
  {
   "cell_type": "code",
   "execution_count": 3,
   "id": "5312c855",
   "metadata": {},
   "outputs": [],
   "source": [
    "v3 = len(l1)"
   ]
  },
  {
   "cell_type": "code",
   "execution_count": 4,
   "id": "6a600524",
   "metadata": {},
   "outputs": [
    {
     "data": {
      "text/plain": [
       "7"
      ]
     },
     "execution_count": 4,
     "metadata": {},
     "output_type": "execute_result"
    }
   ],
   "source": [
    "v3"
   ]
  },
  {
   "cell_type": "code",
   "execution_count": null,
   "id": "042856d6",
   "metadata": {},
   "outputs": [],
   "source": [
    "# def function_name(arguments):\n",
    "#     function_body"
   ]
  },
  {
   "cell_type": "code",
   "execution_count": 5,
   "id": "df1beadb",
   "metadata": {},
   "outputs": [],
   "source": [
    "def count_letter_digit(str1):\n",
    "    letters = 0\n",
    "    digits = 0\n",
    "    for i in str1:\n",
    "        if i.isdigit():\n",
    "            digits += 1\n",
    "        elif i.isalpha():\n",
    "            letters += 1\n",
    "    print(\"Letters:\",letters)\n",
    "    print(\"Digits:\",digits)"
   ]
  },
  {
   "cell_type": "code",
   "execution_count": null,
   "id": "35d0b044",
   "metadata": {},
   "outputs": [],
   "source": []
  },
  {
   "cell_type": "code",
   "execution_count": 6,
   "id": "2a8f2970",
   "metadata": {},
   "outputs": [],
   "source": [
    "str2 = \"Hey Python 3.11\""
   ]
  },
  {
   "cell_type": "code",
   "execution_count": 8,
   "id": "4e01d873",
   "metadata": {},
   "outputs": [
    {
     "name": "stdout",
     "output_type": "stream",
     "text": [
      "Letters: 9\n",
      "Digits: 3\n"
     ]
    }
   ],
   "source": [
    "v4 = count_letter_digit(str2)"
   ]
  },
  {
   "cell_type": "code",
   "execution_count": 9,
   "id": "ed34fe48",
   "metadata": {},
   "outputs": [
    {
     "name": "stdout",
     "output_type": "stream",
     "text": [
      "None\n"
     ]
    }
   ],
   "source": [
    "print(v4)"
   ]
  },
  {
   "cell_type": "code",
   "execution_count": null,
   "id": "d3b986c4",
   "metadata": {},
   "outputs": [],
   "source": []
  },
  {
   "cell_type": "code",
   "execution_count": null,
   "id": "9aab42cb",
   "metadata": {},
   "outputs": [],
   "source": []
  },
  {
   "cell_type": "code",
   "execution_count": 7,
   "id": "ca7121d0",
   "metadata": {},
   "outputs": [],
   "source": [
    "str3 = 'Hey 1.22'"
   ]
  },
  {
   "cell_type": "code",
   "execution_count": 8,
   "id": "fb02ee4a",
   "metadata": {},
   "outputs": [
    {
     "name": "stdout",
     "output_type": "stream",
     "text": [
      "Letters: 3\n",
      "Digits: 3\n"
     ]
    }
   ],
   "source": [
    "count_letter_digit(str3)"
   ]
  },
  {
   "cell_type": "code",
   "execution_count": 9,
   "id": "b11b877c",
   "metadata": {},
   "outputs": [],
   "source": [
    "def mul_div(a,b):\n",
    "    m = a * b\n",
    "    add = a + b\n",
    "    result = m / add\n",
    "    print(result)"
   ]
  },
  {
   "cell_type": "code",
   "execution_count": 14,
   "id": "60c5c8d8",
   "metadata": {},
   "outputs": [
    {
     "name": "stdout",
     "output_type": "stream",
     "text": [
      "2.5454545454545454\n"
     ]
    }
   ],
   "source": [
    "mul_div(4,7)"
   ]
  },
  {
   "cell_type": "code",
   "execution_count": null,
   "id": "1be1715b",
   "metadata": {},
   "outputs": [],
   "source": []
  },
  {
   "cell_type": "code",
   "execution_count": 11,
   "id": "477968f5",
   "metadata": {},
   "outputs": [
    {
     "name": "stdout",
     "output_type": "stream",
     "text": [
      "1.4285714285714286\n"
     ]
    }
   ],
   "source": [
    "mul_div(5,2)"
   ]
  },
  {
   "cell_type": "code",
   "execution_count": 24,
   "id": "01c78cfe",
   "metadata": {},
   "outputs": [],
   "source": [
    "def sub(a,b,c):\n",
    "    print(a-b+c)"
   ]
  },
  {
   "cell_type": "code",
   "execution_count": 17,
   "id": "dc660529",
   "metadata": {},
   "outputs": [
    {
     "name": "stdout",
     "output_type": "stream",
     "text": [
      "-1\n"
     ]
    }
   ],
   "source": [
    "sub(3,4)"
   ]
  },
  {
   "cell_type": "code",
   "execution_count": 21,
   "id": "ca7e3ae1",
   "metadata": {},
   "outputs": [],
   "source": [
    "def emp_salary(name,salary=9000):\n",
    "    print(\"Name:\",name)\n",
    "    print(\"Salary:\",salary)"
   ]
  },
  {
   "cell_type": "code",
   "execution_count": 22,
   "id": "c39c95e3",
   "metadata": {},
   "outputs": [
    {
     "name": "stdout",
     "output_type": "stream",
     "text": [
      "Name: a\n",
      "Salary: 9000\n"
     ]
    }
   ],
   "source": [
    "emp_salary(\"a\")"
   ]
  },
  {
   "cell_type": "code",
   "execution_count": 23,
   "id": "1aabe78b",
   "metadata": {},
   "outputs": [
    {
     "name": "stdout",
     "output_type": "stream",
     "text": [
      "Name: a\n",
      "Salary: 12\n"
     ]
    }
   ],
   "source": [
    "emp_salary('a',12)"
   ]
  },
  {
   "cell_type": "code",
   "execution_count": 25,
   "id": "e3948827",
   "metadata": {},
   "outputs": [
    {
     "name": "stdout",
     "output_type": "stream",
     "text": [
      "4\n"
     ]
    }
   ],
   "source": [
    "sub(3,4,5)"
   ]
  },
  {
   "cell_type": "code",
   "execution_count": 29,
   "id": "f2e05e94",
   "metadata": {},
   "outputs": [
    {
     "name": "stdout",
     "output_type": "stream",
     "text": [
      "-10\n"
     ]
    }
   ],
   "source": [
    "sub(4,b=15,c=1)"
   ]
  },
  {
   "cell_type": "code",
   "execution_count": 18,
   "id": "1b31803e",
   "metadata": {},
   "outputs": [],
   "source": [
    "def length_counter(str1):\n",
    "    \n",
    "    count = 0\n",
    "    \n",
    "    for i in str1:\n",
    "        count = count + 1\n",
    "        \n",
    "    return count"
   ]
  },
  {
   "cell_type": "code",
   "execution_count": 20,
   "id": "3a05ead0",
   "metadata": {},
   "outputs": [],
   "source": [
    "var = length_counter(\"Hey! I am learning\")"
   ]
  },
  {
   "cell_type": "code",
   "execution_count": 21,
   "id": "ee784c05",
   "metadata": {},
   "outputs": [
    {
     "data": {
      "text/plain": [
       "18"
      ]
     },
     "execution_count": 21,
     "metadata": {},
     "output_type": "execute_result"
    }
   ],
   "source": [
    "var"
   ]
  },
  {
   "cell_type": "code",
   "execution_count": 22,
   "id": "88e00a41",
   "metadata": {},
   "outputs": [],
   "source": [
    "l1 = [13,45,779,12,34,56,78,97,56,12,]"
   ]
  },
  {
   "cell_type": "code",
   "execution_count": null,
   "id": "ffa29ca6",
   "metadata": {},
   "outputs": [],
   "source": []
  },
  {
   "cell_type": "code",
   "execution_count": 23,
   "id": "f3547839",
   "metadata": {},
   "outputs": [],
   "source": [
    "def before_even_counter(lst):\n",
    "    count = 0\n",
    "    \n",
    "    for i in lst:\n",
    "        if i % 2 == 0:\n",
    "            return count\n",
    "        count += 1\n",
    "        "
   ]
  },
  {
   "cell_type": "code",
   "execution_count": 24,
   "id": "89f06c5b",
   "metadata": {},
   "outputs": [
    {
     "data": {
      "text/plain": [
       "3"
      ]
     },
     "execution_count": 24,
     "metadata": {},
     "output_type": "execute_result"
    }
   ],
   "source": [
    "before_even_counter(l1)"
   ]
  },
  {
   "cell_type": "code",
   "execution_count": 25,
   "id": "0ffbf717",
   "metadata": {},
   "outputs": [],
   "source": [
    "def a1(a: int,b: int) -> int:\n",
    "    return a + b\n",
    "    "
   ]
  },
  {
   "cell_type": "code",
   "execution_count": 26,
   "id": "085e2bdd",
   "metadata": {},
   "outputs": [
    {
     "data": {
      "text/plain": [
       "9"
      ]
     },
     "execution_count": 26,
     "metadata": {},
     "output_type": "execute_result"
    }
   ],
   "source": [
    "a1(3,6)"
   ]
  },
  {
   "cell_type": "code",
   "execution_count": 29,
   "id": "e68e288a",
   "metadata": {},
   "outputs": [
    {
     "data": {
      "text/plain": [
       "'heyp'"
      ]
     },
     "execution_count": 29,
     "metadata": {},
     "output_type": "execute_result"
    }
   ],
   "source": [
    "a1(\"hey\",'p')"
   ]
  },
  {
   "cell_type": "code",
   "execution_count": 30,
   "id": "f96d5ddd",
   "metadata": {},
   "outputs": [],
   "source": [
    "# 1. Arbitrary number of positional argument # *args\n",
    "# 2. Arbitrary number of keyword argument #**kwargs"
   ]
  },
  {
   "cell_type": "code",
   "execution_count": 46,
   "id": "b6ad59fb",
   "metadata": {},
   "outputs": [],
   "source": [
    "def addition(a1,b1,*a):\n",
    "    print(type(a))\n",
    "    for i in a:\n",
    "        print(i)\n",
    "    return sum(a)"
   ]
  },
  {
   "cell_type": "code",
   "execution_count": 47,
   "id": "1c03cf49",
   "metadata": {},
   "outputs": [
    {
     "name": "stdout",
     "output_type": "stream",
     "text": [
      "<class 'tuple'>\n",
      "2\n",
      "3\n",
      "4\n",
      "5\n",
      "6\n",
      "7\n"
     ]
    },
    {
     "data": {
      "text/plain": [
       "27"
      ]
     },
     "execution_count": 47,
     "metadata": {},
     "output_type": "execute_result"
    }
   ],
   "source": [
    "addition(5,8,2,3,4,5,6,7)"
   ]
  },
  {
   "cell_type": "code",
   "execution_count": 52,
   "id": "c32c3a0c",
   "metadata": {},
   "outputs": [],
   "source": [
    "def UAE(*a,**kwargs):\n",
    "    print(a)\n",
    "    print(type(a))\n",
    "    print(type(kwargs))\n",
    "    print(kwargs)"
   ]
  },
  {
   "cell_type": "code",
   "execution_count": 54,
   "id": "8716b2de",
   "metadata": {},
   "outputs": [
    {
     "name": "stdout",
     "output_type": "stream",
     "text": [
      "(1, 2, 3, 4)\n",
      "<class 'tuple'>\n",
      "<class 'dict'>\n",
      "{'a': 12, 'b': 23, 'c': 12, 'd': 'hey'}\n"
     ]
    }
   ],
   "source": [
    "UAE(1,2,3,4,a=12,b=23,c=12,d='hey')"
   ]
  },
  {
   "cell_type": "code",
   "execution_count": 55,
   "id": "7abaae11",
   "metadata": {},
   "outputs": [],
   "source": [
    "def square(a):\n",
    "    \n",
    "    if a > 0:\n",
    "        \n",
    "        sqr = a ** 2\n",
    "        \n",
    "        print(sqr)\n",
    "        \n",
    "        square(a - 1)"
   ]
  },
  {
   "cell_type": "code",
   "execution_count": 56,
   "id": "14e67334",
   "metadata": {},
   "outputs": [
    {
     "name": "stdout",
     "output_type": "stream",
     "text": [
      "25\n",
      "16\n",
      "9\n",
      "4\n",
      "1\n"
     ]
    }
   ],
   "source": [
    "square(5)"
   ]
  },
  {
   "cell_type": "code",
   "execution_count": 57,
   "id": "763ca861",
   "metadata": {},
   "outputs": [],
   "source": [
    "def square(a):\n",
    "    \n",
    "    if a > 0:\n",
    "        square(a - 1)\n",
    "        \n",
    "        sqr = a ** 2\n",
    "        \n",
    "        print(sqr)\n",
    "        \n",
    "        "
   ]
  },
  {
   "cell_type": "code",
   "execution_count": 58,
   "id": "7cf52f9b",
   "metadata": {},
   "outputs": [
    {
     "name": "stdout",
     "output_type": "stream",
     "text": [
      "1\n",
      "4\n",
      "9\n",
      "16\n",
      "25\n"
     ]
    }
   ],
   "source": [
    "square(5)"
   ]
  },
  {
   "cell_type": "code",
   "execution_count": 59,
   "id": "f48f84a2",
   "metadata": {},
   "outputs": [],
   "source": [
    "def fact(num):\n",
    "    \n",
    "    if num == 1:\n",
    "        return 1\n",
    "    else:\n",
    "        return (num * fact(num-1))"
   ]
  },
  {
   "cell_type": "code",
   "execution_count": 61,
   "id": "92a49489",
   "metadata": {},
   "outputs": [
    {
     "data": {
      "text/plain": [
       "24"
      ]
     },
     "execution_count": 61,
     "metadata": {},
     "output_type": "execute_result"
    }
   ],
   "source": [
    "fact(4)"
   ]
  },
  {
   "cell_type": "code",
   "execution_count": null,
   "id": "88ca4d35",
   "metadata": {},
   "outputs": [],
   "source": []
  }
 ],
 "metadata": {
  "kernelspec": {
   "display_name": "Python 3 (ipykernel)",
   "language": "python",
   "name": "python3"
  },
  "language_info": {
   "codemirror_mode": {
    "name": "ipython",
    "version": 3
   },
   "file_extension": ".py",
   "mimetype": "text/x-python",
   "name": "python",
   "nbconvert_exporter": "python",
   "pygments_lexer": "ipython3",
   "version": "3.9.13"
  }
 },
 "nbformat": 4,
 "nbformat_minor": 5
}
