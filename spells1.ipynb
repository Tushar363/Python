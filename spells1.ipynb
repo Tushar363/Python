{
 "cells": [
  {
   "cell_type": "code",
   "execution_count": 4,
   "id": "71f53813",
   "metadata": {},
   "outputs": [
    {
     "data": {
      "text/plain": [
       "9"
      ]
     },
     "execution_count": 4,
     "metadata": {},
     "output_type": "execute_result"
    }
   ],
   "source": [
    "import random\n",
    "\n",
    "l1 = [1,7,8,9]\n",
    "\n",
    "random.choice(l1)"
   ]
  },
  {
   "cell_type": "code",
   "execution_count": 49,
   "id": "94169a17",
   "metadata": {},
   "outputs": [
    {
     "name": "stdout",
     "output_type": "stream",
     "text": [
      "Harry Potter Keyboard Trainer\n",
      "Repello Muggletum\n"
     ]
    }
   ],
   "source": [
    "import random\n",
    "\n",
    "def read_spells(filename: str) -> list:\n",
    "    \"\"\"\n",
    "    Reads a list of spells from a file and returns a list of spells.\n",
    "    \"\"\"\n",
    "    # TODO: implement this function\n",
    "    \n",
    "    file_object = open(filename,'r')\n",
    "    \n",
    "    content = file_object.read()\n",
    "    \n",
    "    # print(content)\n",
    "    \n",
    "    lst_of_strings = content.splitlines()\n",
    "    \n",
    "    return lst_of_strings\n",
    "\n",
    "def get_random_spell(spells: list) -> str:\n",
    "    \"\"\"\n",
    "    Returns a random spell from a list of spells, converted to lowercase.\n",
    "    \"\"\"\n",
    "    random_spell = random.choice(spells)\n",
    "    \n",
    "    return random_spell\n",
    "# TODO: implement this function\n",
    "def main() -> None:\n",
    "    \"\"\"\n",
    "    Main program.\n",
    "    \"\"\"\n",
    "    spells = read_spells('spells.txt')\n",
    "    print('Harry Potter Keyboard Trainer')\n",
    "    spell = get_random_spell(spells)\n",
    "    print(spell)\n",
    "main()"
   ]
  },
  {
   "cell_type": "code",
   "execution_count": 13,
   "id": "4eef72ae",
   "metadata": {},
   "outputs": [],
   "source": []
  },
  {
   "cell_type": "code",
   "execution_count": 16,
   "id": "432daf29",
   "metadata": {},
   "outputs": [],
   "source": []
  },
  {
   "cell_type": "code",
   "execution_count": 15,
   "id": "e5cec387",
   "metadata": {},
   "outputs": [],
   "source": []
  },
  {
   "cell_type": "code",
   "execution_count": null,
   "id": "91727b3b",
   "metadata": {},
   "outputs": [],
   "source": []
  },
  {
   "cell_type": "code",
   "execution_count": null,
   "id": "6a0c646a",
   "metadata": {},
   "outputs": [],
   "source": []
  }
 ],
 "metadata": {
  "kernelspec": {
   "display_name": "Python 3 (ipykernel)",
   "language": "python",
   "name": "python3"
  },
  "language_info": {
   "codemirror_mode": {
    "name": "ipython",
    "version": 3
   },
   "file_extension": ".py",
   "mimetype": "text/x-python",
   "name": "python",
   "nbconvert_exporter": "python",
   "pygments_lexer": "ipython3",
   "version": "3.9.13"
  }
 },
 "nbformat": 4,
 "nbformat_minor": 5
}
